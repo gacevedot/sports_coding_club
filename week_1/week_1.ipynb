{
 "cells": [
  {
   "cell_type": "markdown",
   "metadata": {},
   "source": [
    "# Week 1: Introduction to Python and Google Colab\n",
    "The goal for this week is to familiarize you with the basics of Python and Google Colab.\n",
    "\n",
    "## 1. What is Python?\n",
    "**Python** is a language we use to give instructions to a computer. Just like speaking English or Spanish helps us communicate with people, Python lets us communicate with a computer to solve problems or perform tasks.\n",
    "\n",
    "### Key concepts:\n",
    "- **Code**: Instructions written in Python for the computer to follow.\n",
    "- **Syntax**: The rules for writing Python code so the computer understands it.\n",
    "- **Statements**: Individual instructions in your code, like telling the computer to print something or calculate a value.\n",
    "\n",
    "### Resources\n",
    "- [Python Beginner's Guide](https://www.python.org/about/gettingstarted/): the official Python website explains what Python is and why it's used, with links to tutorials and guides."
   ]
  },
  {
   "cell_type": "markdown",
   "metadata": {},
   "source": [
    "## 2. Google Colab Interface\n",
    "In this course, we'll use **Google Colab** to write and run our Python code. Google Colab is a free online platform that lets you write and run Python code in your web browser. The nice thing is that you don't need to install anything on your computer to get started.\n",
    "\n",
    "### Key Features of Google Colab:\n",
    "- **Code cells**: Where you write and run your Python code.\n",
    "- **Text cells**: Where you can write explanations or notes in plain text (like this one!).\n",
    "- **Run cells**: You can run the code by clicking the \"play\" button next to a code cell.\n",
    "\n",
    "### Code cells \n",
    "In Google Colab, you write a **block of code** (a set of instructions) inside a **code cell**. <br>\n",
    "Each line in a code cell usually contains a **statement** (an individual instruction). <br>\n",
    "When you run the code cell, the computer processes each line one by one, from top to bottom.<br>\n",
    "You can use `#` to write **comments** on code cells. Anything you add after a # will be ignored."
   ]
  },
  {
   "cell_type": "code",
   "execution_count": 7,
   "metadata": {},
   "outputs": [
    {
     "data": {
      "text/plain": [
       "0.5"
      ]
     },
     "execution_count": 7,
     "metadata": {},
     "output_type": "execute_result"
    }
   ],
   "source": [
    "# Example: run code cells\n",
    "1+2  # this statement will be run first\n",
    "1-2  \n",
    "1*2\n",
    "1/2  # this statement will be run last"
   ]
  },
  {
   "cell_type": "markdown",
   "metadata": {},
   "source": [
    "**Note**: When the previous example code cell is run, the computer will perform each instruction in order. However, only the output of the last line in the code cell is displayed in the **output cell**."
   ]
  },
  {
   "cell_type": "markdown",
   "metadata": {},
   "source": [
    "## 3. Introduction to Variables and Data Types\n",
    "In Python, **variables** are used to store information that you want to use later. Think of them like containers that hold data.\n",
    "1. **Naming variables**\n",
    "You can name your variables almost anything, but there are some important rules:\n",
    "- It can only use letters, numbers, and underscores (`_`) character.\n",
    "- It can't begin with a number.\n",
    "- It cannot use Python's reserved keywords (like `print`, `if`, or `while`).\n",
    "2. **Assigning variable**\n",
    "To assign a value (like a number, text, or data) to a variable, use the `=` symbol. This tells Python to \"store\" the value in the variable.\n",
    "```Python\n",
    "my_variable_name = 1\n",
    "```\n",
    "### Type of data\n",
    "- **Integers**: `int` are whole numbers (e.g., 3, -5, 10).\n",
    "- **Floats**: `float` are numbers with decimals (e.g., 3.14, -2.5, 0.001).\n",
    "- **Strings**: `str` are text (e.g., \"Hello\", \"Python is fun!\"). Strings must be enclosed in \"\".\n",
    "- **Booleans**: `bool` are True or False values."
   ]
  },
  {
   "cell_type": "code",
   "execution_count": 8,
   "metadata": {},
   "outputs": [],
   "source": [
    "# Example: Assigning variables of different data types\n",
    "\n",
    "player_name = \"LeBron James\"\n",
    "player_age = 38\n",
    "points_scored = 35.7  # Average points scored per game\n",
    "is_mvp = True  # Most Valuable Player status"
   ]
  },
  {
   "cell_type": "markdown",
   "metadata": {},
   "source": [
    "You can use the function `type()` to check data type of your variables."
   ]
  },
  {
   "cell_type": "code",
   "execution_count": 9,
   "metadata": {},
   "outputs": [
    {
     "name": "stdout",
     "output_type": "stream",
     "text": [
      "<class 'str'>\n",
      "<class 'int'>\n",
      "<class 'float'>\n",
      "<class 'bool'>\n"
     ]
    }
   ],
   "source": [
    "print(type(player_name))\n",
    "print(type(player_age))\n",
    "print(type(points_scored))\n",
    "print(type(is_mvp))"
   ]
  },
  {
   "cell_type": "markdown",
   "metadata": {},
   "source": [
    "## 4. Basic Python Code: Print Statements and Math Operations\n",
    "\n",
    "### Print Satements\n",
    "The `print()` function is used to display text, numbers, or the result of calculations. <br>\n",
    "Anything that is placed inside the parentheses will be shown as output when the code is run. <br>\n",
    "You can use a `,` to print multiple things in the same statement."
   ]
  },
  {
   "cell_type": "code",
   "execution_count": 12,
   "metadata": {},
   "outputs": [
    {
     "name": "stdout",
     "output_type": "stream",
     "text": [
      "LeBron James\n",
      "LeBron James 38\n",
      "LeBron James is 38 years old\n"
     ]
    }
   ],
   "source": [
    "# Example\n",
    "\n",
    "print(\"LeBron James\") # You can print strings\n",
    "print(player_name, player_age) # You can print variables\n",
    "print(player_name, 'is', player_age, 'years old') # You can print multiple strings and variables\n"
   ]
  },
  {
   "cell_type": "markdown",
   "metadata": {},
   "source": [
    "#### Short Exercise: Printing your introduction\n",
    "Create the one variable for the following:\n",
    "- Name\n",
    "- Age\n",
    "Print an introduction of yourself (e.g, My name is Gabriela and I am 26 years old)"
   ]
  },
  {
   "cell_type": "code",
   "execution_count": null,
   "metadata": {},
   "outputs": [],
   "source": [
    "# Exercise: Printing your introduction"
   ]
  },
  {
   "cell_type": "markdown",
   "metadata": {},
   "source": [
    "### Math Operators\n",
    "You can do basic math like addiiton, subtraction, multiplication, and division. You can also combine these operations to solve more complex expressions.\n",
    "| Operators | Operation | Example |\n",
    "|-----------|-----------|---------|\n",
    "|**|Exponent|`2**3=8`|\n",
    "|%|Modulus/Remainder|`22%3=6`|\n",
    "|//|Integer division|`2//3=2`|\n",
    "|*|Multiplication|`3*3=9`|\n",
    "|-|Subtraction|`5-2=3`|\n",
    "|+|Addition|`2+2=4`|\n",
    "\n",
    "Python follows the same order of operations as in regular mathematics:\n",
    "1. Parentheses.\n",
    "2. Exponents.\n",
    "3. Multiplication and division (from left to right).\n",
    "4. Addition and Substraction (form left to right).\n",
    "\n",
    "\n",
    "**Tip**: To control the order of calculations, you can use parentheses to group parts of your expression.\n"
   ]
  },
  {
   "cell_type": "code",
   "execution_count": 15,
   "metadata": {},
   "outputs": [
    {
     "name": "stdout",
     "output_type": "stream",
     "text": [
      "The total points for the team was:  75\n",
      "The average points per games was:  25.0\n"
     ]
    }
   ],
   "source": [
    "# Example: Math Operations\n",
    "\n",
    "# You can store the results of operations in variables\n",
    "game_1 = 20\n",
    "game_2 = 25\n",
    "game_3 = 30\n",
    "total_points = game_1 + game_2 + game_3\n",
    "game_average = (game_1 + game_2 + game_3)/3\n",
    "print('The total points for the team was: ', total_points)\n",
    "print('The average points per games was: ', game_average)"
   ]
  },
  {
   "cell_type": "markdown",
   "metadata": {},
   "source": [
    "## Final Exercise: Analyze Sports Data\n",
    "You're a coach analyzing data for a recent basketball game. Here's the information:\n",
    "- Player names: \"Alice,\" \"Bob,\" \"Charlie\"\n",
    "- Points scored: 15, 25, 18\n",
    "- Game time (in minutes): 30, 28, 32\n",
    "\n",
    "Tasks:\n",
    "1. Create variables to store this data.\n",
    "2. Calculate and print the total points scored by all players.\n",
    "3. Calculate and print each player's average points per minute (points scored divided by game time).\n",
    "\n",
    "Print a summary for each player (e.g., John score 17 points in 27 minutes, averaging 0.63 points per minute)"
   ]
  },
  {
   "cell_type": "code",
   "execution_count": 26,
   "metadata": {},
   "outputs": [
    {
     "name": "stdout",
     "output_type": "stream",
     "text": [
      "16\n"
     ]
    }
   ],
   "source": [
    "# Exercise: Analyze Sports Data\n"
   ]
  }
 ],
 "metadata": {
  "kernelspec": {
   "display_name": "base",
   "language": "python",
   "name": "python3"
  },
  "language_info": {
   "codemirror_mode": {
    "name": "ipython",
    "version": 3
   },
   "file_extension": ".py",
   "mimetype": "text/x-python",
   "name": "python",
   "nbconvert_exporter": "python",
   "pygments_lexer": "ipython3",
   "version": "3.12.4"
  }
 },
 "nbformat": 4,
 "nbformat_minor": 2
}

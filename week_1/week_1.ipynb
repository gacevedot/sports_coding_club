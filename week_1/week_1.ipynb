{
 "cells": [
  {
   "cell_type": "markdown",
   "metadata": {},
   "source": [
    "# Week 1: Introduction to Python and Google Colab\n",
    "The goal for this week is to familiarize you with the basics of Python and Google Colab.\n",
    "\n",
    "## 1. What is Python?\n",
    "**Python** is a popular **programming language**, much like how English or Spanish are languages we use to communicate with each other. However, instead of being used to talk with people, Python is used to communicate with a computer to give it instructions to do things. You can think of Python as a language that the computer \"understands\".\n",
    "\n",
    "### Key concepts:\n",
    "- **Code**: Just like words in a language, **code** is the set of instructions you give to the computer. Code must be written in a language that the computer can understand, such as Python.\n",
    "- **Syntax**: Just like grammar in a language (how words should be put together to make sense), **syntax** is a set of rules that tells you how to write your code in Python so the computer can understand it.\n",
    "- **Statements**: A **statement** is an individual instruction in your code, much like a sentence in a language. It can perform actions like printing text, doing calculations, or controlling the flow of the program.\n",
    "- **Functions**: A block of code that is desgined to perform a single specific task. Python has many predefined functions that we can use, or we can define our own functions to perform tasks specific to our needs.\n"
   ]
  },
  {
   "cell_type": "markdown",
   "metadata": {},
   "source": [
    "## 2. Google Colab Interface\n",
    "In this course, we'll use **Google Colab** to write and run our Python code. Google Colab is a free online platform that lets you write and run Python code in your web browser. The nice thing is that you don't need to install anything on your computer to get started.\n",
    "\n",
    "### Key Features of Google Colab:\n",
    "- **Code cells**: Where you write and run your Python code.\n",
    "- **Text cells**: Where you can write explanations or notes in plain text (like this one!).\n",
    "- **Run cells**: You can run the code by clicking the \"play\" button next to a code cell.\n",
    "\n",
    "### Code cells \n",
    "In Google Colab, you write a **block of code** (a set of instructions) inside a **code cell**. Each line in a code cell usually contains a **statement** (an individual instruction). When you run the code cell, the computer processes each line one by one, from top to bottom.\n",
    "<br>\n",
    "You can use `#` to write **comments** on code cells. Anything you add after a # will be ignored."
   ]
  },
  {
   "cell_type": "code",
   "execution_count": 5,
   "metadata": {},
   "outputs": [
    {
     "data": {
      "text/plain": [
       "0.5"
      ]
     },
     "execution_count": 5,
     "metadata": {},
     "output_type": "execute_result"
    }
   ],
   "source": [
    "# Example: run code cells\n",
    "1+2  # this statement will be run first\n",
    "1-2  \n",
    "1*2\n",
    "1/2  # this statement will be run last"
   ]
  },
  {
   "cell_type": "markdown",
   "metadata": {},
   "source": [
    "**Note**: When the previous example code cell is run, the computer will perform each instruction in order. However, only the output of the last line in the code cell is displayed in the **output cell**."
   ]
  },
  {
   "cell_type": "markdown",
   "metadata": {},
   "source": [
    "## Introduction to Variables and Data Types\n",
    "In Python, **variables** are used to store information that you want to use later. Think of them like containers that hold data.\n",
    "1. **Naming variables**\n",
    "You can name your variables almost anything, but there are some important rules:\n",
    "- It can only use letters, numbers, and underscores (`_`) character.\n",
    "- It can't begin with a number.\n",
    "- It cannot use Python's reserved keywords (like `print`, `if`, or `while`).\n",
    "2. **Assigning variable**\n",
    "To assign a value (like a number, text, or data) to a variable, use the `=` symbol. This tells Python to \"store\" the value in the variable. The variable name goes on the left, and the value goes on the right.\n",
    "```Python\n",
    "my_1_variable = 1\n",
    "```\n",
    "### Type of data\n",
    "1. **Integers**: `int` are whole numbers (e.g., 3, -5, 10).\n",
    "2. **Floats**: `float` are numbers with decimals (e.g., 3.14, -2.5, 0.001).\n",
    "3. **Strings**: `str` are text (e.g., \"Hello\", \"Python is fun!\"). Strings must be enclosed in \"\".\n",
    "4. **Booleans**: `bool` are True or False values."
   ]
  },
  {
   "cell_type": "code",
   "execution_count": 28,
   "metadata": {},
   "outputs": [],
   "source": [
    "# Example: Assigning variables of different data types\n",
    "age = 26 \n",
    "height = 5.7\n",
    "name = \"Alice\"\n",
    "is_student = True"
   ]
  },
  {
   "cell_type": "markdown",
   "metadata": {},
   "source": [
    "You can use the function `type()` to check data type of your variables."
   ]
  },
  {
   "cell_type": "code",
   "execution_count": 27,
   "metadata": {},
   "outputs": [
    {
     "name": "stdout",
     "output_type": "stream",
     "text": [
      "<class 'int'>\n",
      "<class 'float'>\n",
      "<class 'str'>\n",
      "<class 'bool'>\n"
     ]
    }
   ],
   "source": [
    "print(type(age))\n",
    "print(type(height))\n",
    "print(type(name))\n",
    "print(type(is_student))"
   ]
  },
  {
   "cell_type": "markdown",
   "metadata": {},
   "source": [
    "## Basic Python Code: Print Statements and Math Operations\n",
    "Let's go through some basic Python concepts:\n",
    "### Print Satements\n",
    "The `print()` function is used to display text, numbers, or the result of calculations. Whatever is placed inside the parentheses will be shown as output when the code is run.\n",
    "<br>\n",
    "You can use a `,` to print multiple things in the same statement."
   ]
  },
  {
   "cell_type": "code",
   "execution_count": 12,
   "metadata": {},
   "outputs": [
    {
     "name": "stdout",
     "output_type": "stream",
     "text": [
      "Hello, World\n",
      "Hello, World\n",
      "Hello, , World\n"
     ]
    }
   ],
   "source": [
    "# Example\n",
    "\n",
    "my_variable_1 = \"Hello, World\"\n",
    "my_variable_2 = \"Hello,\"\n",
    "my_variable_3 = \"World\"\n",
    "\n",
    "print(\"Hello, World\") # You can print strings\n",
    "print(my_variable_1) # You can print variables\n",
    "print(my_variable_2, \",\", my_variable_3) # You can print multiple strings and variables\n"
   ]
  },
  {
   "cell_type": "markdown",
   "metadata": {},
   "source": [
    "### Math Operators\n",
    "You can do basic math like addiiton, subtraction, multiplication, and division. You can also combine these operations to solve more complex expressions.\n",
    "| Operators | Operation | Example |\n",
    "|-----------|-----------|---------|\n",
    "|**|Exponent|`2**3=8`|\n",
    "|%|Modulus/Remainder|`22%3=6`|\n",
    "|//|Integer division|`2//3=2`|\n",
    "|*|Multiplication|`3*3=9`|\n",
    "|-|Subtraction|`5-2=3`|\n",
    "|+|Addition|`2+2=4`|\n",
    "Python follows the same order of operations as in regular mathematics:\n",
    "1. Parentheses\n",
    "2. Exponents\n",
    "3. Multiplication and division (from left to right)\n",
    "4. Addition and Substraction (form left to right)\n",
    "To control the order of calculations, you can use parentheses to group parts of your expression.\n"
   ]
  },
  {
   "cell_type": "code",
   "execution_count": 25,
   "metadata": {},
   "outputs": [
    {
     "name": "stdout",
     "output_type": "stream",
     "text": [
      "13\n",
      "16\n"
     ]
    }
   ],
   "source": [
    "# Example: Math Operations\n",
    "\n",
    "# You can store the results of operations in variables\n",
    "result = 1 + 3 * 4\n",
    "result_with_parentheses = (1 + 3) * 4 \n",
    "print(result)\n",
    "print(result_with_parentheses)"
   ]
  },
  {
   "cell_type": "code",
   "execution_count": 26,
   "metadata": {},
   "outputs": [
    {
     "name": "stdout",
     "output_type": "stream",
     "text": [
      "16\n"
     ]
    }
   ],
   "source": [
    "# You can perform operations using variables\n",
    "x = 1 + 3\n",
    "y = 4\n",
    "z = x * y\n",
    "print(z)"
   ]
  }
 ],
 "metadata": {
  "kernelspec": {
   "display_name": "base",
   "language": "python",
   "name": "python3"
  },
  "language_info": {
   "codemirror_mode": {
    "name": "ipython",
    "version": 3
   },
   "file_extension": ".py",
   "mimetype": "text/x-python",
   "name": "python",
   "nbconvert_exporter": "python",
   "pygments_lexer": "ipython3",
   "version": "3.11.5"
  }
 },
 "nbformat": 4,
 "nbformat_minor": 2
}

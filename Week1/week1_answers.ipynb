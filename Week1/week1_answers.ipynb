{
 "cells": [
  {
   "cell_type": "markdown",
   "metadata": {},
   "source": [
    "#### Short Exercise: Printing your introduction\n",
    "Create the one variable for the following:\n",
    "- Name\n",
    "- Age\n",
    "Print an introduction of yourself (e.g, My name is Gabriela and I am 26 years old)"
   ]
  },
  {
   "cell_type": "code",
   "execution_count": 1,
   "metadata": {},
   "outputs": [
    {
     "name": "stdout",
     "output_type": "stream",
     "text": [
      "My name is Gabriela and I am 26 years old\n"
     ]
    }
   ],
   "source": [
    "# Exercise: Printing your introduction\n",
    "\n",
    "name = \"Gabriela\"\n",
    "age = 26\n",
    "print(\"My name is\", name, \"and I am\", age, \"years old\")"
   ]
  },
  {
   "cell_type": "markdown",
   "metadata": {},
   "source": [
    "## Final Exercise: Analyze Sports Data\n",
    "You're a coach analyzing data for a recent basketball game. Here's the information:\n",
    "- Player names: \"Alice,\" \"Bob,\" \"Charlie\"\n",
    "- Points scored: 15, 25, 18\n",
    "- Game time (in minutes): 30, 28, 32\n",
    "\n",
    "Tasks:\n",
    "1. Create variables to store this data.\n",
    "2. Calculate and print the total points scored by all players.\n",
    "3. Calculate and print each player's average points per minute (points scored divided by game time).\n",
    "\n",
    "Print the total points scored by all players and a summary for each player (e.g., John score 17 points in 27 minutes, averaging 0.63 points per minute)"
   ]
  },
  {
   "cell_type": "code",
   "execution_count": 3,
   "metadata": {},
   "outputs": [
    {
     "name": "stdout",
     "output_type": "stream",
     "text": [
      "The total points score by all players is 58\n",
      "Alice scored 15 points in 30 minutes, averaging 0.5 points per minute\n",
      "Bob scored 25 points in 28 minutes, averaging 0.8928571428571429 points per minute\n",
      "Charlie scored 18 points in 32 minutes, averaging 0.5625 points per minute\n"
     ]
    }
   ],
   "source": [
    "# create a variable for the name of each player\n",
    "name_player1 = \"Alice\"\n",
    "name_player2 = \"Bob\"\n",
    "name_player3 = \"Charlie\"\n",
    "\n",
    "# create a variable for the points of each player\n",
    "points_player1 = 15\n",
    "points_player2 = 25\n",
    "points_player3 = 18\n",
    "\n",
    "# create a variable for the game time of each player\n",
    "time_player1 = 30\n",
    "time_player2 = 28\n",
    "time_player3 = 32\n",
    "\n",
    "# Caculate the total points\n",
    "total_points = points_player1 + points_player2 + points_player3\n",
    "\n",
    "# print the total points for all players\n",
    "print(\"The total points score by all players is\", total_points)\n",
    "\n",
    "# print the summaries for each player\n",
    "print(name_player1, \"scored\", points_player1, \"points in\", time_player1, \"minutes, averaging\", points_player1/time_player1, \"points per minute\")\n",
    "print(name_player2, \"scored\", points_player2, \"points in\", time_player2, \"minutes, averaging\", points_player2/time_player2, \"points per minute\")\n",
    "print(name_player3, \"scored\", points_player3, \"points in\", time_player3, \"minutes, averaging\", points_player3/time_player3, \"points per minute\")\n",
    "\n",
    "\n",
    "\n"
   ]
  }
 ],
 "metadata": {
  "kernelspec": {
   "display_name": "base",
   "language": "python",
   "name": "python3"
  },
  "language_info": {
   "codemirror_mode": {
    "name": "ipython",
    "version": 3
   },
   "file_extension": ".py",
   "mimetype": "text/x-python",
   "name": "python",
   "nbconvert_exporter": "python",
   "pygments_lexer": "ipython3",
   "version": "3.12.4"
  }
 },
 "nbformat": 4,
 "nbformat_minor": 2
}

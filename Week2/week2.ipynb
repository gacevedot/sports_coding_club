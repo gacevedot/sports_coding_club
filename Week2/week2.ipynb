{
 "cells": [
  {
   "cell_type": "markdown",
   "metadata": {},
   "source": [
    "# Week 2: Objects and Data Structures in Python\n",
    "Learn about Python **data structures** and **object types** with examples and exercises.\n",
    "\n",
    "### Key Concepts:\n",
    "- **Data structures**: A data structure is a way of organizing, managing, and storing data so it can be accessed and used efficiently.\n",
    "- **Object**: a Python object is essentially anything that you can assign to a variable.\n",
    "\n",
    "### Resources\n",
    "- [Basic Object Types](https://www.pythonlikeyoumeanit.com/Module2_EssentialsOfPython/Basic_Objects.html): guide to the different objects types in Python."
   ]
  },
  {
   "cell_type": "markdown",
   "metadata": {},
   "source": [
    "# Ordered Data Structures\n",
    "Python **lists** and **tuples**\n",
    "<br><br>\n",
    "Ordered data structures maintain the sequence of elements in which they were added. This means the order in which you insert items is the order in which you can access them.\n",
    "<br>\n",
    "\n",
    "## 1. Python Lists\n",
    "\n",
    "### What is a list?\n",
    "A **list** is a type of Python object that allows us to store a sequence of items.\n",
    "- Lists are **ordered**. \n",
    "- Each \"space\" in the sequence is associated with an index.\n",
    "- Items can be of any type (e.g., numbers, strings, another list)\n",
    "### Creating a list\n",
    "A list object is created using square-brackets `[]`, and its content are separated by commas: `[item1, item2, item3]`."
   ]
  },
  {
   "cell_type": "code",
   "execution_count": 36,
   "metadata": {},
   "outputs": [
    {
     "data": {
      "text/plain": [
       "['String', 3.4, 1, False]"
      ]
     },
     "execution_count": 36,
     "metadata": {},
     "output_type": "execute_result"
    }
   ],
   "source": [
    "# Example: Lists with objects of different types\n",
    "['String', 3.4, 1, False]"
   ]
  },
  {
   "cell_type": "markdown",
   "metadata": {},
   "source": [
    "### Accessing content\n",
    "You can access the contents of a list via **indexing** and **slicing**\n",
    "![Lists Indexing/Slicing](../media/lists_figure.png)\n",
    "- **Indexing**\n",
    "    - Lists are zero-indexed, meaning the first item has an index of 0.\n",
    "    - You can access specific items in a list by placing their index inside square brackets, e.g., `my_list[0]` accesses the first item.\n",
    "    - Negative indexing allows you to access items starting from the end of the list. For example, `my_list[-1]` accesses the last item, and `my_list[-2]` accesses the second-to-last item.\n",
    "\n",
    "- **Slicing**\n",
    "    - Use square brackets with a colon (`:`) to extract a subset of the list.\n",
    "    - The syntax is `my_list[start:end]`, where:\n",
    "        - `start` is the index of the first item to include.\n",
    "        - `end` is the index of the first item to exclude.\n",
    "    - For example, `my_list[1:4]` retrieves items at indices 1, 2, and 3 but not 4.\n",
    "    - Omitting `start` or `end` uses the beginning or end of the list, respectively. For instance, `my_list[:3]` retrieves the first three items.\n",
    "\n",
    "**Remember**: Indexes in Python starts from 0"
   ]
  },
  {
   "cell_type": "code",
   "execution_count": 37,
   "metadata": {},
   "outputs": [
    {
     "name": "stdout",
     "output_type": "stream",
     "text": [
      "1\n",
      "3\n",
      "12\n"
     ]
    }
   ],
   "source": [
    "# Example: Indexing a list \n",
    "my_list = [1, 2, 3, 4, 5, 6, 7, 8, 9, 10, 11, 12]\n",
    "print(my_list[0]) # access first item = 1\n",
    "print(my_list[2]) # access third item = 3\n",
    "print(my_list[-1]) # access last item = 12"
   ]
  },
  {
   "cell_type": "code",
   "execution_count": 38,
   "metadata": {},
   "outputs": [
    {
     "name": "stdout",
     "output_type": "stream",
     "text": [
      "[2, 3, 4]\n",
      "[1, 2, 3, 4, 5]\n",
      "[6, 7, 8, 9, 10, 11, 12]\n"
     ]
    }
   ],
   "source": [
    "# Example: Slicing a list\n",
    "print(my_list[1:4]) # [1, 2, 3]\n",
    "print(my_list[:5]) # [1, 2, 3, 4, 5]\n",
    "print(my_list[5:]) # [6, 7, 8, 9, 10, 11, 12]"
   ]
  },
  {
   "cell_type": "markdown",
   "metadata": {},
   "source": [
    "### Appending items to list\n",
    "You can use the `append()` method to add a new item to a list.\n",
    "- Appending a new item will change your original list\n",
    "- Use `my_list.append(new_item)` to add items to the end of your list\n"
   ]
  },
  {
   "cell_type": "code",
   "execution_count": 39,
   "metadata": {},
   "outputs": [
    {
     "name": "stdout",
     "output_type": "stream",
     "text": [
      "['basketball', 'soccer', 'football']\n",
      "['basketball', 'soccer', 'football', 'baseball']\n"
     ]
    }
   ],
   "source": [
    "# Example: Appending new item to list\n",
    "sports = ['basketball', 'soccer', 'football']\n",
    "print(sports)\n",
    "\n",
    "sports.append('baseball')\n",
    "print(sports)\n"
   ]
  },
  {
   "cell_type": "markdown",
   "metadata": {},
   "source": [
    "### Other operations\n",
    "\n",
    "Lists are mutable, meaning that we can change the content of them. Here are other operations we can use to change the contect from a list:\n",
    "\n",
    "|Operation|Explanation|\n",
    "|---------|-----------|\n",
    "|`my_list[i] = obj`| Set `obj` as the ith item of the list|\n",
    "|`my_list.append(obj)`|Append a new `obj` to the end of the list|\n",
    "|`my_list.pop()`|Remove the object from the end of the list|\n",
    "|`my_list.pop(0)`|Remove the object from the beginning of the list|\n",
    "|`my_list.remove(value)`|Remove the elements with a specific value|\n",
    "|`my_list.sort()`|Return a sorted version of the list|"
   ]
  },
  {
   "cell_type": "code",
   "execution_count": 40,
   "metadata": {},
   "outputs": [
    {
     "name": "stdout",
     "output_type": "stream",
     "text": [
      "[100, 2, 3, 4, 5, 6, 7, 8, 9, 10, 11, 12]\n",
      "[100, 2, 3, 4, 5, 6, 7, 8, 9, 10, 11]\n",
      "[2, 3, 4, 5, 6, 7, 8, 9, 10, 11]\n",
      "[2, 3, 5, 6, 7, 8, 9, 10, 11]\n",
      "[2, 3, 5, 6, 7, 8, 9, 10, 11]\n"
     ]
    }
   ],
   "source": [
    "# Example of other list operations\n",
    "my_list[0] = 100 # change first item to 100\n",
    "print(my_list)\n",
    "\n",
    "my_list.pop() # remove last item\n",
    "print(my_list)\n",
    "\n",
    "my_list.pop(0) # remove first item\n",
    "print(my_list)\n",
    "\n",
    "my_list.remove(4) # remove item with value 4\n",
    "print(my_list)\n",
    "\n",
    "my_list.sort() # sort list\n",
    "print(my_list)"
   ]
  },
  {
   "cell_type": "markdown",
   "metadata": {},
   "source": [
    "#### <span style=\"color:red;\">Exercise: Creating and manipulating lists</span>\n",
    "1. Create a list containing three of your favorite activities. List them in ascending order, starting with the one you enjoy the most.\n",
    "2. Add two more activities to the list using the `append` method.\n",
    "3. Use indexing to access and print the top two activities from your list.\n"
   ]
  },
  {
   "cell_type": "code",
   "execution_count": 8,
   "metadata": {},
   "outputs": [],
   "source": [
    "# Exercise: Creating and manipulating lists"
   ]
  },
  {
   "cell_type": "markdown",
   "metadata": {},
   "source": [
    "## 2. Tuples\n",
    "### What is a Tuple?\n",
    "A **tuple** is like a list but **immutable** (cannot be changed after creation).\n",
    "<br>\n",
    "Tuples are often used to store collections of data that should not be modified, such as coordinates, statistics, or other grouped values.\n",
    "### Creating a tuple\n",
    "A tuple object is created using parentheses `()` with items separated by commas.\n",
    "\n"
   ]
  },
  {
   "cell_type": "code",
   "execution_count": 9,
   "metadata": {},
   "outputs": [
    {
     "name": "stdout",
     "output_type": "stream",
     "text": [
      "('Alice', 30, 5.7)\n"
     ]
    }
   ],
   "source": [
    "my_tuple = (\"Alice\", 30, 5.7)\n",
    "print(my_tuple)"
   ]
  },
  {
   "cell_type": "markdown",
   "metadata": {},
   "source": [
    "### Accessing content \n",
    "You can use the same indexing and slicing methods as with lists to access the contents of a tuple:\n",
    "- **Indexing**: Access individual elements using their position (starting at 0).\n",
    "- **Slicing**: Extract a range of elements using a colon : inside square brackets."
   ]
  },
  {
   "cell_type": "code",
   "execution_count": 10,
   "metadata": {},
   "outputs": [
    {
     "name": "stdout",
     "output_type": "stream",
     "text": [
      "Alice\n"
     ]
    }
   ],
   "source": [
    "name = my_tuple[0]\n",
    "print(name)"
   ]
  },
  {
   "cell_type": "markdown",
   "metadata": {},
   "source": [
    "### Other Operations for list/tuples\n",
    "There are other operations that can be performed to list and tuples.\n",
    "<br> Suppose `my_seq` is a tuple or list. You can perform the following operations:\n",
    "\n",
    "|Operation|Explanation|\n",
    "|---------|-----------|\n",
    "| `len(my_seq)`| Return the number of items in the sequence|\n",
    "|`my_seq[i]`| Retrieved the ith item of the sequence|\n",
    "|`my_seq[i:j]`|Retrieve a slice from the sequence|\n",
    "|`obj in my_seq`| Check if `obj` is an item in the sequence|\n",
    "|`my_seq.count(obj)`|Count the occurrences of `obj` in the sequence|\n",
    "|`my_seq.index(obj)`|Return the position-index of `obj` in the sequence|"
   ]
  },
  {
   "cell_type": "code",
   "execution_count": 11,
   "metadata": {},
   "outputs": [
    {
     "name": "stdout",
     "output_type": "stream",
     "text": [
      "There are  7 items in my list\n",
      "True\n",
      "False\n",
      "There are 2 dogs in my list\n",
      "The index of cat is 1\n"
     ]
    }
   ],
   "source": [
    "# Example: Other Tuple/List operations\n",
    "my_seq = ['dog', 'cat', 'dog', 'mouse', 4, 6, 7]\n",
    "\n",
    "print('There are ', len(my_seq), 'items in my list')\n",
    "print('mouse' in my_seq) # True\n",
    "print('bird' in my_seq) # False\n",
    "print('There are', my_seq.count('dog'), 'dogs in my list')\n",
    "print('The index of cat is', my_seq.index('cat'))"
   ]
  },
  {
   "cell_type": "markdown",
   "metadata": {},
   "source": [
    "## 3. Dictionaries\n",
    "### What is a Python Dictionary?\n",
    "Python's dictionary allows you to store **key-value** pairs. \n",
    "- You construct the dictionary by specifying one-way mappings from key-objects to value-objects.\n",
    "- Each key must map to exactly one value, meaning that a key must be **unique**. \n",
    "\n",
    "### Creating a Dictionary\n",
    "Dictionaries are created using curly brackets`{}` with key-value pairs separated by commas.\n",
    "<br><br>\n",
    "The general syntax is: \n",
    "`my_dict = {key1 : value1, key2 : value2}`\n"
   ]
  },
  {
   "cell_type": "code",
   "execution_count": 13,
   "metadata": {},
   "outputs": [
    {
     "name": "stdout",
     "output_type": "stream",
     "text": [
      "{'name': 'Alice', 'age': 25, 'points': 34}\n"
     ]
    }
   ],
   "source": [
    "# Example: Creating a dictionary\n",
    "player = {\"name\": \"Alice\", \"age\": 25, \"points\": 34}\n",
    "print(player)"
   ]
  },
  {
   "cell_type": "code",
   "execution_count": 14,
   "metadata": {},
   "outputs": [
    {
     "name": "stdout",
     "output_type": "stream",
     "text": [
      "dict_keys(['name', 'age', 'points'])\n",
      "dict_values(['Alice', 25, 34])\n"
     ]
    }
   ],
   "source": [
    "# Use .keys() to get all the keys in the dictionary\n",
    "print(player.keys())\n",
    " \n",
    " # Use .values() to get all the values in the dictionary\n",
    "print(player.values())"
   ]
  },
  {
   "cell_type": "markdown",
   "metadata": {},
   "source": [
    "### Accessing, Adding and Updating Content\n",
    "1. You can access the values for specific keys using square-brackets `[key]`\n",
    "2. You can add additional key-value pairs using `[new_key]` and `=`\n",
    "    - **Note**: the new key must be unique (different from the others)\n",
    "3. You can update the value of a specific key using square-brackets `[key]` and `=`"
   ]
  },
  {
   "cell_type": "code",
   "execution_count": 15,
   "metadata": {},
   "outputs": [
    {
     "name": "stdout",
     "output_type": "stream",
     "text": [
      "Alice\n"
     ]
    }
   ],
   "source": [
    "# Example: Accessing values\n",
    "print(player['name'])"
   ]
  },
  {
   "cell_type": "code",
   "execution_count": 16,
   "metadata": {},
   "outputs": [
    {
     "name": "stdout",
     "output_type": "stream",
     "text": [
      "{'name': 'Alice', 'age': 25, 'points': 34, 'country': 'USA'}\n"
     ]
    }
   ],
   "source": [
    "# Example: Adding new key-value pair\n",
    "player['country'] = 'USA'\n",
    "print(player)"
   ]
  },
  {
   "cell_type": "code",
   "execution_count": 17,
   "metadata": {},
   "outputs": [
    {
     "name": "stdout",
     "output_type": "stream",
     "text": [
      "Old information {'name': 'Alice', 'age': 25, 'points': 34, 'country': 'USA'}\n",
      "Updated information {'name': 'Alice', 'age': 26, 'points': 34, 'country': 'USA'}\n"
     ]
    }
   ],
   "source": [
    "# Example: Updating values \n",
    "print('Old information', player)\n",
    "player['age'] = 26\n",
    "print('Updated information', player)"
   ]
  },
  {
   "cell_type": "markdown",
   "metadata": {},
   "source": [
    "**Note**: The values in your Dictionary can be any type of object, including lists.\n",
    "<br>\n",
    "This will be very helpful when we start working with other type of Data Structures"
   ]
  },
  {
   "cell_type": "code",
   "execution_count": 18,
   "metadata": {},
   "outputs": [
    {
     "name": "stdout",
     "output_type": "stream",
     "text": [
      "{'name': ['Alice', 'Bob'], 'age': [25, 18], 'is_student': [False, True]}\n",
      "The team players are ['Alice', 'Bob']\n"
     ]
    }
   ],
   "source": [
    "# Example: Dictionary with the information of players\n",
    "players = {'name': ['Alice', 'Bob'], 'age': [25, 18], 'is_student': [False, True]}\n",
    "print(players)\n",
    "print('The team players are', players['name'])"
   ]
  },
  {
   "cell_type": "markdown",
   "metadata": {},
   "source": [
    "## <span style=\"color:red;\">Hands-On Exercise </span>\n",
    "You have the following information about players\n",
    "- Alice, 26 years old, from U.S.A\n",
    "- Carlos, 18 years old, from Costa Rica\n",
    "- Clara, 21 years old, from Germany\n",
    "- Alex, 19 years old, from U.S.A\n",
    "\n",
    "1. Create one list for: (1) names, (2) age, and (3) countries of the players.\n",
    "2. Print the information for Clara using list indexing.\n",
    "3. Add the information for a new player: Andres, 20 years old, from Venezuela.\n",
    "4. Create a separate Dictionary for Alice's information.\n",
    "5. Print Alice's information. \n",
    "6. Update Alice's dictionary to:\n",
    "    - Alice now lives in France\n",
    "    - Add alice height, 5.6\n"
   ]
  },
  {
   "cell_type": "code",
   "execution_count": 19,
   "metadata": {},
   "outputs": [],
   "source": [
    "# Hands-On Exercise: Storing data from players"
   ]
  }
 ],
 "metadata": {
  "kernelspec": {
   "display_name": "base",
   "language": "python",
   "name": "python3"
  },
  "language_info": {
   "codemirror_mode": {
    "name": "ipython",
    "version": 3
   },
   "file_extension": ".py",
   "mimetype": "text/x-python",
   "name": "python",
   "nbconvert_exporter": "python",
   "pygments_lexer": "ipython3",
   "version": "3.12.4"
  }
 },
 "nbformat": 4,
 "nbformat_minor": 2
}

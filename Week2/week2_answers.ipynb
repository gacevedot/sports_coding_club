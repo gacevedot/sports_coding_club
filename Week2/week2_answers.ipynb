{
 "cells": [
  {
   "cell_type": "markdown",
   "metadata": {},
   "source": [
    "#### <span style=\"color:red;\">Exercise: Creating and manipulating lists</span>\n",
    "1. Create a list containing three of your favorite activities. List them in ascending order, starting with the one you enjoy the most.\n",
    "2. Add two more activities to the list using the `append` method.\n",
    "3. Use indexing to access and print the top two activities from your list."
   ]
  },
  {
   "cell_type": "code",
   "execution_count": 1,
   "metadata": {},
   "outputs": [
    {
     "name": "stdout",
     "output_type": "stream",
     "text": [
      "['snowboarding', 'horseback riding']\n"
     ]
    }
   ],
   "source": [
    "# Exercise: Creating and manipulating lists\n",
    "\n",
    "# (1) Create a list using []\n",
    "favorite_activities = ['snowboarding','horseback riding','dancing']\n",
    "\n",
    "# (2) Add two more activities\n",
    "favorite_activities.append('sleeping')\n",
    "favorite_activities.append('baking')\n",
    "\n",
    "# (3) Access and print top two activities\n",
    "top_two_activities = favorite_activities[0:2]\n",
    "print(top_two_activities)"
   ]
  },
  {
   "cell_type": "markdown",
   "metadata": {},
   "source": [
    "## <span style=\"color:red;\">Hands-On Exercise </span>\n",
    "You have the following information about players\n",
    "- Alice, 26 years old, from U.S.A\n",
    "- Carlos, 18 years old, from Costa Rica\n",
    "- Clara, 21 years old, from Germany\n",
    "- Alex, 19 years old, from U.S.A\n",
    "\n",
    "1. Create one list for: (1) names, (2) age, and (3) countries of the players.\n",
    "2. Print the information for Clara using list indexing.\n",
    "3. Add the information for a new player: Andres, 20 years old, from Venezuela.\n",
    "4. Create a separate Dictionary for Alice's information.\n",
    "5. Print Alice's information. \n",
    "6. Update Alice's dictionary to:\n",
    "    - Alice now lives in France\n",
    "    - Add alice height, 5.6"
   ]
  },
  {
   "cell_type": "code",
   "execution_count": 5,
   "metadata": {},
   "outputs": [
    {
     "name": "stdout",
     "output_type": "stream",
     "text": [
      "Clara 21 Germany\n",
      "{'name': 'Alice', 'age': 26, 'country': 'U.S.A'}\n",
      "{'name': 'Alice', 'age': 26, 'country': 'France', 'height': 5.6}\n"
     ]
    }
   ],
   "source": [
    "# Hands-On Exercise: Storing data from players\n",
    "\n",
    "# (1) Create lists with information\n",
    "names = ['Alice', 'Carlos', 'Clara', 'Alex']\n",
    "ages = [26, 18, 21, 19]\n",
    "countries = ['U.S.A', 'Costa Rica', 'Germany', 'U.S.A']\n",
    "\n",
    "# (2) Print information for Clara\n",
    "# Clara is my third player, so the index for her informaiton is 2\n",
    "print(names[2], ages[2], countries[2])\n",
    "\n",
    "# (3) Add a new player\n",
    "names.append('Andres')\n",
    "ages.append(20)\n",
    "countries.append('Venezuela')\n",
    "\n",
    "# (4) Create Dictionary for Alice\n",
    "alice = {'name': 'Alice', 'age': 26, 'country': 'U.S.A'}\n",
    "print(alice)\n",
    "\n",
    "# (5) Update dictionary\n",
    "alice['country'] = 'France' # change value for 'country'\n",
    "alice['height'] = 5.6      # add new key-value pair for 'height'\n",
    "print(alice)"
   ]
  }
 ],
 "metadata": {
  "kernelspec": {
   "display_name": "base",
   "language": "python",
   "name": "python3"
  },
  "language_info": {
   "codemirror_mode": {
    "name": "ipython",
    "version": 3
   },
   "file_extension": ".py",
   "mimetype": "text/x-python",
   "name": "python",
   "nbconvert_exporter": "python",
   "pygments_lexer": "ipython3",
   "version": "3.12.4"
  }
 },
 "nbformat": 4,
 "nbformat_minor": 2
}

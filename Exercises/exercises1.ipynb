{
  "cells": [
    {
      "cell_type": "markdown",
      "metadata": {
        "id": "iM-HtYg5u52o"
      },
      "source": [
        "## Exercises\n",
        "Use what you have learned so far (week1 - week4) to complete the following exercises.\n",
        "<br>\n",
        "If there is a question, use variables to save your results and print your answer using the `print()` function."
      ]
    },
    {
      "cell_type": "markdown",
      "metadata": {
        "id": "OVkKjvpw2PkV"
      },
      "source": [
        "#### New material - for loops\n",
        "---\n",
        "A `for` loop is used to iterate over a sequence (list, tuple, dictionary, string, or range) and execute a block of code for each item.\n",
        "<br>\n",
        "The basic syntax for a `for` loop is:\n",
        "```python\n",
        "for item in sequence:\n",
        "  # code to run for each item\n",
        "```"
      ]
    },
    {
      "cell_type": "code",
      "execution_count": null,
      "metadata": {
        "id": "j7fuUpEr21Wc"
      },
      "outputs": [],
      "source": [
        "# Example of for loop\n",
        "sequence = ['first', 'second', 'third', 'fourth', 'fifth']\n",
        "for item in sequence:\n",
        "  print(item)"
      ]
    },
    {
      "cell_type": "code",
      "execution_count": null,
      "metadata": {
        "id": "87m_LFJT3N5B"
      },
      "outputs": [],
      "source": [
        "# Example of for loop - calculating age\n",
        "birth_years = [1999, 2000, 1985, 1943]\n",
        "\n",
        "for year in birth_years:\n",
        "  age = 2025 - year\n",
        "  print(age)"
      ]
    },
    {
      "cell_type": "code",
      "execution_count": null,
      "metadata": {
        "id": "GDEDvrGg3qcT"
      },
      "outputs": [],
      "source": [
        "# Example of for loop - create new list using append()\n",
        "# Convert celsius to farenheit\n",
        "\n",
        "celsius = [22, 15]\n",
        "farenheit = []\n",
        "\n",
        "for c in celsius:\n",
        "  f = (c*9/5) + 32\n",
        "  farenheit.append(f)\n",
        "\n",
        "print(celsius[0], 'celsius is', farenheit[0], 'in farenheit')\n",
        "print(celsius[1], 'celsius is', farenheit[1], 'in farenheit')"
      ]
    },
    {
      "cell_type": "markdown",
      "metadata": {
        "id": "7YnItUhxvwup"
      },
      "source": [
        "#### Loading a CSV File in Google Colab\n",
        "---\n",
        "Part of these exercises will use the following dataset: [NBA Players Data on Kaggle](https://www.kaggle.com/datasets/justinas/nba-players-data).\n",
        "<br>\n",
        "To access the file we first need to load the file to Google Colab:\n",
        "<br>\n",
        "1. Download the **'nba_players_info.csv'** file from the **Exercises** folder to your local computer.\n",
        "**Note**: You can also download it from the Kaggle Website and change the file name to **nba_players_info.csv**\n",
        "2. Run the following code:\n",
        "```python\n",
        "from google.colab import files\n",
        "uploaded = files.upload()\n",
        "```\n",
        "3. Select the file from your local computer when prompted."
      ]
    },
    {
      "cell_type": "code",
      "execution_count": null,
      "metadata": {
        "id": "Y8xfXklUvEeG"
      },
      "outputs": [],
      "source": [
        "# run this to load the file to google colab environment\n",
        "from google.colab import files\n",
        "uploaded = files.upload()"
      ]
    },
    {
      "cell_type": "markdown",
      "metadata": {
        "id": "4C6L_5W_6NBu"
      },
      "source": [
        "## Easy Exercises\n",
        "---"
      ]
    },
    {
      "cell_type": "markdown",
      "metadata": {
        "id": "thyRNPs0zLtL"
      },
      "source": [
        "\n",
        "#### 1. Creating and accessing a dictionary\n",
        "Create a dictionary names `player_stats` that stores information about a basketball player's recent game performance. The dictionary should include the following key-value pairs:\n",
        "- `'name'`:`LeBron James`\n",
        "-`'team'`: `'Lakers'`\n",
        "-`'points'`: `30`\n",
        "-`'assists'`: `7`\n",
        "-`'rebounds'`: `9`\n",
        "\n",
        "After creating the dictionary, do the following:\n",
        "\n",
        "- Print the value associated with the key 'points'.\n",
        "- Add a new key 'steals' with a value of 3.\n",
        "- Update the value of 'points' by adding 5 more points.\n",
        "- Print the updated dictionary."
      ]
    },
    {
      "cell_type": "code",
      "execution_count": 1,
      "metadata": {
        "id": "XlqXFJ_F0a16"
      },
      "outputs": [],
      "source": [
        "# Creating and accessing a dictionary\n"
      ]
    },
    {
      "cell_type": "markdown",
      "metadata": {
        "id": "0TqR8CGV0di_"
      },
      "source": [
        "#### 2. List and for loops - Converting Heights\n",
        "You have a list of basketball player heights in inches. Convert each height to centimeters using list comprehension. (1 inch = 2.54 cm)\n",
        "\n",
        "- Create a new list with heights in cm. **Hint**: use a `for` loop\n",
        "- Print the new list of heights in cm.\n",
        "- Find and print the average height in cm."
      ]
    },
    {
      "cell_type": "code",
      "execution_count": null,
      "metadata": {
        "id": "i2-uvSN14pZc"
      },
      "outputs": [],
      "source": [
        "# List of heights in inches\n",
        "heights_in = [70, 72, 68, 75, 80, 85, 78]"
      ]
    },
    {
      "cell_type": "markdown",
      "metadata": {
        "id": "tsaMv_Qf5LiD"
      },
      "source": [
        "#### 3. Reading CSV file using Pandas\n",
        "The dataset `nba_players_info.csv` contains information about NBA players.\n",
        "\n",
        "- Use pandas to read the CSV file into a DataFrame named `nba_df`.\n",
        "- Display the first 5 rows.\n",
        "- Print the column names of the DataFrame.\n",
        "\n",
        "**Bonus:** Try to display only the first 5 rows of the 'Player' and 'Team' columns."
      ]
    },
    {
      "cell_type": "code",
      "execution_count": null,
      "metadata": {
        "id": "VqkVJJAD45Xf"
      },
      "outputs": [],
      "source": [
        "# Reading CSV file using Pandas code"
      ]
    },
    {
      "cell_type": "markdown",
      "metadata": {
        "id": "f67-OFBn6G6-"
      },
      "source": [
        "## Medium Exercises\n",
        "---"
      ]
    },
    {
      "cell_type": "markdown",
      "metadata": {
        "id": "des9xHWT6UC-"
      },
      "source": [
        "#### 4. Filtering Players by Height\n",
        "Using the 'nba_df' DataFrame:\n",
        "- Filter and display all players who are taller than 200 cm.\n",
        "- Count how many players meet this criterion.\n",
        "- Sort these players by height in descending order and display the top 5 tallest players."
      ]
    },
    {
      "cell_type": "code",
      "execution_count": null,
      "metadata": {
        "id": "IOmxACd56S52"
      },
      "outputs": [],
      "source": [
        "# Filtering Players by Height exercise"
      ]
    },
    {
      "cell_type": "markdown",
      "metadata": {
        "id": "awmA3M9r7l5q"
      },
      "source": [
        "#### 5. Working with Dictionary of Lists\n",
        "You have a dictionary storing the points scored by different players over 5 games:\n",
        "- Write a loop that calculates and prints the average points for each player.\n",
        "- Find and print the player with the highest average points.\n",
        "\n",
        "**Note:** A `for` loop on a dictionary will iterate over the `keys`"
      ]
    },
    {
      "cell_type": "code",
      "execution_count": null,
      "metadata": {
        "id": "ZyCWy7WT8KqQ"
      },
      "outputs": [],
      "source": [
        "# Dictionary storing player points in recent games\n",
        "player_points = {\n",
        "    \"Stephen Curry\": [30, 28, 35, 40, 25],\n",
        "    \"Kevin Durant\": [27, 33, 29, 24, 31],\n",
        "    \"Giannis Antetokounmpo\": [25, 20, 27, 22, 30]\n",
        "}\n",
        "\n"
      ]
    },
    {
      "cell_type": "markdown",
      "metadata": {
        "id": "DtSDXIgI9pFU"
      },
      "source": [
        "#### 6. Basic Statistics with Pandas\n",
        "Using the`nba_df` DataFrame:\n",
        "\n",
        "- Calculate and print the **mean, median, and standard deviation** of the players’ weights.\n",
        "- Create a new column 'BMI' using the formula:\n",
        "$$𝐵𝑀𝐼 = (weight (kg))/(height (m))^2$$\n",
        "\n",
        "**Note:** convert cm to meters\n",
        "- Create new dataframe with only players name and BMI.\n",
        "- Display the top 5 players with the highest BMI."
      ]
    },
    {
      "cell_type": "code",
      "execution_count": null,
      "metadata": {
        "id": "IBB8iobu9ogT"
      },
      "outputs": [],
      "source": [
        "# Basic Statistics with Pandas"
      ]
    },
    {
      "cell_type": "markdown",
      "metadata": {
        "id": "HnwH-Ufn_sXF"
      },
      "source": [
        "#### 7. Who had the highest & lowest rating in each team?\n",
        "- Get an array of all the teams in the dataframe.\n",
        "\n",
        "**Note:** Use `.unique()` to remove any repetition from the list\n",
        "- Print the number of teams on the dataframe\n",
        "- Use a for loop to analyze a new dataframe for each team"
      ]
    },
    {
      "cell_type": "code",
      "execution_count": 2,
      "metadata": {
        "id": "O5aiCvca_sjU"
      },
      "outputs": [],
      "source": [
        "# Who had the highest & lowest rating in each team?"
      ]
    }
  ],
  "metadata": {
    "colab": {
      "collapsed_sections": [
        "OVkKjvpw2PkV"
      ],
      "provenance": []
    },
    "kernelspec": {
      "display_name": "base",
      "language": "python",
      "name": "python3"
    },
    "language_info": {
      "codemirror_mode": {
        "name": "ipython",
        "version": 3
      },
      "file_extension": ".py",
      "mimetype": "text/x-python",
      "name": "python",
      "nbconvert_exporter": "python",
      "pygments_lexer": "ipython3",
      "version": "3.12.4"
    }
  },
  "nbformat": 4,
  "nbformat_minor": 0
}

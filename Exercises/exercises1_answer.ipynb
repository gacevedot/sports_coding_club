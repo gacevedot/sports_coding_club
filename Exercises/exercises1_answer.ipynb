{
  "nbformat": 4,
  "nbformat_minor": 0,
  "metadata": {
    "colab": {
      "provenance": [],
      "collapsed_sections": [
        "OVkKjvpw2PkV"
      ]
    },
    "kernelspec": {
      "name": "python3",
      "display_name": "Python 3"
    },
    "language_info": {
      "name": "python"
    }
  },
  "cells": [
    {
      "cell_type": "markdown",
      "source": [
        "## Exercises\n",
        "Use what you have learned so far (week1 - week4) to complete the following exercises.\n",
        "<br>\n",
        "If there is a question, use variables to save your results and print your answer using the `print()` function."
      ],
      "metadata": {
        "id": "iM-HtYg5u52o"
      }
    },
    {
      "cell_type": "markdown",
      "source": [
        "#### New material - for loops\n",
        "---\n",
        "A `for` loop is used to iterate over a sequence (list, tuple, dictionary, string, or range) and execute a block of code for each item.\n",
        "<br>\n",
        "The basic syntax for a `for` loop is:\n",
        "```python\n",
        "for item in sequence:\n",
        "  # code to run for each item\n",
        "```"
      ],
      "metadata": {
        "id": "OVkKjvpw2PkV"
      }
    },
    {
      "cell_type": "code",
      "source": [
        "# Example of for loop\n",
        "sequence = ['first', 'second', 'third', 'fourth', 'fifth']\n",
        "for item in sequence:\n",
        "  print(item)"
      ],
      "metadata": {
        "id": "j7fuUpEr21Wc"
      },
      "execution_count": null,
      "outputs": []
    },
    {
      "cell_type": "code",
      "source": [
        "# Example of for loop - calculating age\n",
        "birth_years = [1999, 2000, 1985, 1943]\n",
        "\n",
        "for year in birth_years:\n",
        "  age = 2025 - year\n",
        "  print(age)"
      ],
      "metadata": {
        "id": "87m_LFJT3N5B"
      },
      "execution_count": null,
      "outputs": []
    },
    {
      "cell_type": "code",
      "source": [
        "# Example of for loop - create new list using append()\n",
        "# Convert celsius to farenheit\n",
        "\n",
        "celsius = [22, 15]\n",
        "farenheit = []\n",
        "\n",
        "for c in celsius:\n",
        "  f = (c*9/5) + 32\n",
        "  farenheit.append(f)\n",
        "\n",
        "print(celsius[0], 'celsius is', farenheit[0], 'in farenheit')\n",
        "print(celsius[1], 'celsius is', farenheit[1], 'in farenheit')"
      ],
      "metadata": {
        "id": "GDEDvrGg3qcT"
      },
      "execution_count": null,
      "outputs": []
    },
    {
      "cell_type": "markdown",
      "source": [
        "#### Loading a CSV File in Google Colab\n",
        "---\n",
        "Part of these exercises will use the following dataset: [NBA Players Data on Kaggle](https://www.kaggle.com/datasets/justinas/nba-players-data).\n",
        "<br>\n",
        "To access the file we first need to load the file to Google Colab:\n",
        "<br>\n",
        "1. Download the **'nba_players_info.csv'** file from the **Exercises** folder to your local computer.\n",
        "**Note**: You can also download it from the Kaggle Website and change the file name to **nba_players_info.csv**\n",
        "2. Run the following code:\n",
        "```python\n",
        "from google.colab import files\n",
        "uploaded = files.upload()\n",
        "```\n",
        "3. Select the file from your local computer when prompted."
      ],
      "metadata": {
        "id": "7YnItUhxvwup"
      }
    },
    {
      "cell_type": "code",
      "source": [
        "# run this to load the file to google colab environment\n",
        "from google.colab import files\n",
        "uploaded = files.upload()"
      ],
      "metadata": {
        "id": "Y8xfXklUvEeG"
      },
      "execution_count": null,
      "outputs": []
    },
    {
      "cell_type": "markdown",
      "source": [
        "## Easy Exercises\n",
        "---"
      ],
      "metadata": {
        "id": "4C6L_5W_6NBu"
      }
    },
    {
      "cell_type": "markdown",
      "source": [
        "\n",
        "#### 1. Creating and accressing a dictionary\n",
        "Create a dictionary names `player_stats` that stores information about a basketball player's recent game performance. The dictionary should include the following key-value pairs:\n",
        "- `'name'`:`LeBron James`\n",
        "-`'team'`: `'Lakers'`\n",
        "-`'points'`: `30`\n",
        "-`'assists'`: `7`\n",
        "-`'rebounds'`: `9`\n",
        "\n",
        "After creating the dictionary, do the following:\n",
        "\n",
        "- Print the value associated with the key 'points'.\n",
        "- Add a new key 'steals' with a value of 3.\n",
        "- Update the value of 'points' by adding 5 more points.\n",
        "- Print the updated dictionary."
      ],
      "metadata": {
        "id": "thyRNPs0zLtL"
      }
    },
    {
      "cell_type": "code",
      "source": [
        "# Creating the dictionary\n",
        "player_stats = {\n",
        "    'name': 'LeBron James',\n",
        "    'team': 'Lakers',\n",
        "    'points': 30,\n",
        "    'assists': 7,\n",
        "    'rebounds': 9\n",
        "}\n",
        "\n",
        "# Accessing the value for 'points'\n",
        "print(\"Points scored:\", player_stats['points'])\n",
        "\n",
        "# Adding a new key-value pair\n",
        "player_stats['steals'] = 3\n",
        "\n",
        "# Updating 'points' by adding 5\n",
        "player_stats['points'] += 5\n",
        "\n",
        "# Printing the updated dictionary\n",
        "print(\"Updated player stats:\", player_stats)\n"
      ],
      "metadata": {
        "id": "XlqXFJ_F0a16"
      },
      "execution_count": null,
      "outputs": []
    },
    {
      "cell_type": "markdown",
      "source": [
        "#### 2. List and for loops - Converting Heights\n",
        "You have a list of basketball player heights in inches. Convert each height to centimeters using list comprehension. (1 inch = 2.54 cm)\n",
        "\n",
        "- Create a new list with heights in cm. **Hint**: use a `for` loop\n",
        "- Print the new list of heights in cm.\n",
        "- Find and print the average height in cm."
      ],
      "metadata": {
        "id": "0TqR8CGV0di_"
      }
    },
    {
      "cell_type": "code",
      "source": [
        "# List of heights in inches\n",
        "heights_in = [70, 72, 68, 75, 80, 85, 78]\n",
        "\n",
        "# Create a new list to save the heights in cm\n",
        "heights_cm = []\n",
        "\n",
        "# Convert to cm using a for loop and append()\n",
        "for height in heights_in:\n",
        "  cm = height * 2.54\n",
        "  heights_cm.append(cm)\n",
        "\n",
        "# Print the converted list\n",
        "print(\"Heights in cm:\", heights_cm)\n",
        "\n",
        "# Calculate the average height\n",
        "average_height = sum(heights_cm) / len(heights_cm)\n",
        "print(\"Average height in cm:\", average_height)"
      ],
      "metadata": {
        "id": "i2-uvSN14pZc"
      },
      "execution_count": null,
      "outputs": []
    },
    {
      "cell_type": "markdown",
      "source": [
        "#### 3. Reading CSV file using Pandas\n",
        "The dataset `nba_players_info.csv` contains information about NBA players.\n",
        "\n",
        "- Use pandas to read the CSV file into a DataFrame named `nba_df`.\n",
        "- Display the first 5 rows.\n",
        "- Print the column names of the DataFrame.\n",
        "\n",
        "**Bonus:** Try to display only the first 5 rows of the 'Player' and 'Team' columns."
      ],
      "metadata": {
        "id": "tsaMv_Qf5LiD"
      }
    },
    {
      "cell_type": "code",
      "source": [
        "# Import library\n",
        "import pandas as pd\n",
        "\n",
        "# Load the dataset\n",
        "nba_df = pd.read_csv(\"nba_players_info.csv\")\n",
        "\n",
        "# Display the first 5 rows\n",
        "print(nba_df.head())\n",
        "\n",
        "# Print column names\n",
        "column_names = nba_df.columns\n",
        "print(\"Columns in dataset:\", column_names)\n",
        "\n",
        "# Display first 5 rows of 'Player' and 'Team' columns\n",
        "print(nba_df[['player_name', 'team_abbreviation']].head())"
      ],
      "metadata": {
        "id": "VqkVJJAD45Xf"
      },
      "execution_count": null,
      "outputs": []
    },
    {
      "cell_type": "markdown",
      "source": [
        "## Medium Exercises\n",
        "---"
      ],
      "metadata": {
        "id": "f67-OFBn6G6-"
      }
    },
    {
      "cell_type": "markdown",
      "source": [
        "#### 4. Filtering Players by Height\n",
        "Using the 'nba_df' DataFrame:\n",
        "- Filter and display all players who are taller than 200 cm.\n",
        "- Count how many players meet this criterion.\n",
        "- Sort these players by height in descending order and display the top 5 tallest players."
      ],
      "metadata": {
        "id": "des9xHWT6UC-"
      }
    },
    {
      "cell_type": "code",
      "source": [
        "# Filter players taller than 80 inches\n",
        "tall_players = nba_df[nba_df['player_height'] > 200]\n",
        "print(tall_players)\n",
        "\n",
        "# Count number of tall players\n",
        "n_tall_players = len(tall_players)\n",
        "print(\"Number of players taller than 200 cm:\", n_tall_players)\n",
        "\n",
        "# Sort by height (descending order) and display top 5 tallest players\n",
        "sorted_df = tall_players.sort_values(by='player_height', ascending=False)\n",
        "print(\"Top 5 tallest players:\\n\", sorted_df.head(5))"
      ],
      "metadata": {
        "id": "IOmxACd56S52"
      },
      "execution_count": null,
      "outputs": []
    },
    {
      "cell_type": "markdown",
      "source": [
        "#### 5. Working with Dictionary of Lists\n",
        "You have a dictionary storing the points scored by different players over 5 games:\n",
        "- Write a loop that calculates and prints the average points for each player.\n",
        "- Find and print the player with the highest average points.\n",
        "\n",
        "**Note:** A `for` loop on a dictionary will iterate over the `keys`"
      ],
      "metadata": {
        "id": "awmA3M9r7l5q"
      }
    },
    {
      "cell_type": "code",
      "source": [
        "# Dictionary storing player points in recent games\n",
        "player_points = {\n",
        "    \"Stephen Curry\": [30, 28, 35, 40, 25],\n",
        "    \"Kevin Durant\": [27, 33, 29, 24, 31],\n",
        "    \"Giannis Antetokounmpo\": [25, 20, 27, 22, 30]\n",
        "}\n",
        "\n",
        "# Create an empty dictionary to store the players name and the average points\n",
        "average_points = {}\n",
        "\n",
        "# Calculate and print average points per playe\n",
        "for player in player_points:\n",
        "\n",
        "  # get the list of points from the dictionary\n",
        "  points = player_points[player]\n",
        "\n",
        "  # calculate average and print resutls\n",
        "  avg = sum(points)/len(points)\n",
        "  print(\"Average points for\", player, 'is', avg)\n",
        "\n",
        "  # save results in dicitonary\n",
        "  average_points[player] = average_points\n",
        "\n",
        "# Find player with highest average points\n",
        "highest_scorer = max(average_points) # get the key for the highest value\n",
        "print(\"Player with the highest average points:\", highest_scorer)"
      ],
      "metadata": {
        "id": "ZyCWy7WT8KqQ"
      },
      "execution_count": null,
      "outputs": []
    },
    {
      "cell_type": "markdown",
      "source": [
        "Using the`nba_df` DataFrame:\n",
        "\n",
        "- Calculate and print the **mean, median, and standard deviation** of the players’ weights.\n",
        "- Create a new column 'BMI' using the formula:\n",
        "$$𝐵𝑀𝐼 = (weight (kg))/(height (m))^2$$\n",
        "\n",
        "**Note:** convert cm to meters\n",
        "- Create new dataframe with only players name and BMI.\n",
        "- Display the top 5 players with the highest BMI."
      ],
      "metadata": {
        "id": "DtSDXIgI9pFU"
      }
    },
    {
      "cell_type": "code",
      "source": [
        "# Calculate mean, median, and standard deviation of players' weights\n",
        "print(\"Mean weight:\", nba_df['player_weight'].mean())\n",
        "print(\"Median weight:\", nba_df['player_weight'].median())\n",
        "print(\"Standard deviation of weight:\", nba_df['player_weight'].std())\n",
        "\n",
        "# Create new column with height in meters\n",
        "nba_df['height_m'] = nba_df['player_height'] * 0.0254\n",
        "\n",
        "# Calculate BMI\n",
        "nba_df['BMI'] = nba_df['player_weight'] / (nba_df['height_m'] ** 2)\n",
        "\n",
        "# Save new dataframe with only name and BMI columns\n",
        "bmi_df = nba_df[['player_name', 'BMI']]\n",
        "# Sort by BMI highest to smallest\n",
        "sorted_bmi_df = bmi_df.sort_values(by='BMI', ascending=False)\n",
        "print(sorted_bmi_df.head(5))"
      ],
      "metadata": {
        "id": "IBB8iobu9ogT"
      },
      "execution_count": null,
      "outputs": []
    },
    {
      "cell_type": "markdown",
      "source": [
        "#### 6. Who had the highest & lowest rating in each team?\n",
        "- Get an array of all the teams in the dataframe.\n",
        "\n",
        "**Note:** Use `.unique()` to remove any repetition from the list\n",
        "- Print the number of teams on the dataframe\n",
        "- Use a for loop to analyze a new dataframe for each team"
      ],
      "metadata": {
        "id": "HnwH-Ufn_sXF"
      }
    },
    {
      "cell_type": "code",
      "source": [
        "# Get the array for the teams in the dataframe\n",
        "teams = nba_df['team_abbreviation'].unique()\n",
        "print('There are', len(teams), 'teams in the dataframe')\n",
        "\n",
        "# Create a for loop to analyze a dataframe for each team\n",
        "for team in teams:\n",
        "    # create a new dataframe including only the rows for a team\n",
        "    team_df = nba_df[nba_df['team_abbreviation'] == team]\n",
        "\n",
        "    # find the index for the row with the highest/lowest ratings\n",
        "    index_best_rating = team_df['net_rating'].idxmax()\n",
        "    index_worst_rating = team_df['net_rating'].idxmin()\n",
        "\n",
        "    # find the player name for the row with the highest/lowest ratings\n",
        "    player_best_rating = team_df['player_name'][index_best_rating]\n",
        "    player_worst_rating = team_df['player_name'][index_worst_rating]\n",
        "\n",
        "    # Print results\n",
        "    print('The player with the best net rating in', team, 'is', player_best_rating)\n",
        "    print('The player with the worst net rating in', team, 'is', player_worst_rating)"
      ],
      "metadata": {
        "id": "O5aiCvca_sjU"
      },
      "execution_count": null,
      "outputs": []
    }
  ]
}
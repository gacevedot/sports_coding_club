{
 "cells": [
  {
   "cell_type": "markdown",
   "metadata": {},
   "source": [
    "# Week 4: Data Manipulation with Pandas (Part 2)\n",
    "## NBA Players Data Analysis with Pandas\n",
    "Today, we will be working with a **real-world dataset** containing infromation about NBA players, including their height, weight, birthplaces, teams, draft details, and performance states.\n",
    "<br>\n",
    "\n",
    "**Dataset Source:** \n",
    "[NBA Players Data on Kaggle](https://www.kaggle.com/datasets/justinas/nba-players-data)\n",
    "\n",
    "## What you'll learn:\n",
    "- Load data from a **CSV file** into a Pandas DataFrame.\n",
    "- Explore and clean the dataset.\n",
    "- Apply **filtering, grouping, and sorting** to analyze player stats.\n",
    "- Write **functions** to make our analysis more reusable.\n",
    "- Visualize data.\n"
   ]
  },
  {
   "cell_type": "markdown",
   "metadata": {},
   "source": [
    "### Loading a CSV File in Google Colab\n",
    "---\n",
    "Since Google Colab runs on a cloud environment, it cannot access files directly from your local machine just by their filename. If you are using Google Colab, follow these steps to load your file:\n",
    "\n",
    "<br>\n",
    "\n",
    "1. Download the **'nba_players_info.csv'** file to your local computer.\n",
    "2. Run the following code:\n",
    "```python\n",
    "from google.colab import files\n",
    "uploaded = files.upload()\n",
    "```\n",
    "3. Select the file from your local computer when prompted."
   ]
  },
  {
   "cell_type": "code",
   "execution_count": 1,
   "metadata": {},
   "outputs": [
    {
     "ename": "ModuleNotFoundError",
     "evalue": "No module named 'google.colab'",
     "output_type": "error",
     "traceback": [
      "\u001b[1;31m---------------------------------------------------------------------------\u001b[0m",
      "\u001b[1;31mModuleNotFoundError\u001b[0m                       Traceback (most recent call last)",
      "Cell \u001b[1;32mIn[1], line 2\u001b[0m\n\u001b[0;32m      1\u001b[0m \u001b[38;5;66;03m# run this to load the file to google colab environment\u001b[39;00m\n\u001b[1;32m----> 2\u001b[0m \u001b[38;5;28;01mfrom\u001b[39;00m \u001b[38;5;21;01mgoogle\u001b[39;00m\u001b[38;5;21;01m.\u001b[39;00m\u001b[38;5;21;01mcolab\u001b[39;00m \u001b[38;5;28;01mimport\u001b[39;00m files\n\u001b[0;32m      3\u001b[0m uploaded \u001b[38;5;241m=\u001b[39m files\u001b[38;5;241m.\u001b[39mupload()\n",
      "\u001b[1;31mModuleNotFoundError\u001b[0m: No module named 'google.colab'"
     ]
    }
   ],
   "source": [
    "# run this to load the file to google colab environment\n",
    "from google.colab import files\n",
    "uploaded = files.upload()"
   ]
  },
  {
   "cell_type": "markdown",
   "metadata": {},
   "source": [
    "### Loading CSV files into Pandas DataFrame\n",
    "---\n",
    "To load a csv file you can use the funciton `pd.read_csv()`\n",
    "<br>\n",
    "[Documentation](https://pandas.pydata.org/docs/reference/api/pandas.read_csv.html)\n",
    "<br><br>\n",
    "**Note**: you need to provide the complete path for your file if it is not in the same location as your notebook"
   ]
  },
  {
   "cell_type": "code",
   "execution_count": null,
   "metadata": {},
   "outputs": [],
   "source": [
    "# Import the Pandas library \n",
    "\n",
    "\n",
    "# Load CSV file\n",
    "\n",
    "# display the first 5 rows of the dataframe\n"
   ]
  },
  {
   "cell_type": "code",
   "execution_count": null,
   "metadata": {},
   "outputs": [],
   "source": [
    "# display the information of the dataframe\n",
    "\n",
    "# check for missing values\n"
   ]
  },
  {
   "cell_type": "markdown",
   "metadata": {},
   "source": [
    "### Cleaning DataFrame\n",
    "---\n",
    "We can remove all the rows for entries that have at least one missing value using the `df.dropna()` function"
   ]
  },
  {
   "cell_type": "code",
   "execution_count": null,
   "metadata": {},
   "outputs": [],
   "source": [
    "# Drop missing values from dataframe\n",
    "# inplace=True will modify the dataframe, if False it will return a new dataframe\n"
   ]
  },
  {
   "cell_type": "code",
   "execution_count": null,
   "metadata": {},
   "outputs": [],
   "source": [
    "# Lets print a Summary statistics using .describe() method\n",
    "\n",
    "\n",
    "# Create it as a new dataframe\n",
    "\n",
    "\n",
    "# Get max age\n"
   ]
  },
  {
   "cell_type": "markdown",
   "metadata": {},
   "source": [
    "1. Find the tallest and shortest player\n",
    "<br><br>\n",
    "**Hint**: Use `df['column'].idxmax()` to get the row index with the maximum value"
   ]
  },
  {
   "cell_type": "code",
   "execution_count": null,
   "metadata": {},
   "outputs": [],
   "source": [
    "# Let's find the index for the row with the maximum and minimum height\n",
    "\n",
    "\n",
    "# Get the player name with the maximum and minimum height\n",
    "\n",
    "\n",
    "# Print results\n"
   ]
  },
  {
   "cell_type": "markdown",
   "metadata": {},
   "source": [
    "2. Find all players who are 7 feet or taller\n",
    "<br><br>\n",
    "**Hint**: create a subset using a condition `df[condition]`"
   ]
  },
  {
   "cell_type": "code",
   "execution_count": null,
   "metadata": {},
   "outputs": [],
   "source": [
    "# create a variable to store the height in cm for 7 feet (ft * 30.48)\n",
    "\n",
    "\n",
    "# create a new dataframe with players taller than 7 feet\n",
    "\n",
    "\n",
    "# get the names of the players\n",
    "\n",
    "\n",
    "# How many players are taller than 7 feet?\n"
   ]
  },
  {
   "cell_type": "markdown",
   "metadata": {},
   "source": [
    "3. Who had the highest average points in each season?"
   ]
  },
  {
   "cell_type": "code",
   "execution_count": null,
   "metadata": {},
   "outputs": [],
   "source": [
    "# Get the seasons in our Dataframe using the unique() method\n",
    "\n",
    "\n",
    "# Use the values in the list to create a new dataframe for each season\n",
    "\n",
    "# Find the player with the maximum pts in season1\n",
    "\n",
    "\n",
    "# Do this for all seasons\n"
   ]
  },
  {
   "cell_type": "code",
   "execution_count": null,
   "metadata": {},
   "outputs": [],
   "source": [
    "# Or use a for loop\n",
    "\n",
    "# A for loop repeats a block of code for each element in a sequence\n",
    "# Example: Iterating through the items of the \"seasons\" list & printing each item\n"
   ]
  },
  {
   "cell_type": "markdown",
   "metadata": {},
   "source": [
    "4. Who had the highest & lowest rating in each team?"
   ]
  },
  {
   "cell_type": "code",
   "execution_count": null,
   "metadata": {},
   "outputs": [],
   "source": [
    "# Get the array for the teams in the dataframe\n",
    "\n",
    "\n",
    "# Create a for loop to analyze a dataframe for each team\n"
   ]
  },
  {
   "cell_type": "markdown",
   "metadata": {},
   "source": [
    "5. Find the top players with the highest average points per game\n",
    "<br><br>\n",
    "\n",
    "**Hint**: Use `.sort_values(by='column')` to sort values and get first 10 rows"
   ]
  },
  {
   "cell_type": "code",
   "execution_count": null,
   "metadata": {},
   "outputs": [],
   "source": [
    "# Sort your dataframe by a column\n"
   ]
  },
  {
   "cell_type": "markdown",
   "metadata": {},
   "source": [
    "6. Find most common birthplace\n",
    "<br><br>\n",
    "\n",
    "**Hint**: Use `.value_counts()`"
   ]
  },
  {
   "cell_type": "code",
   "execution_count": null,
   "metadata": {},
   "outputs": [],
   "source": [
    "# Show the number of players from each country\n",
    "\n",
    "\n",
    "# Get index label of a pandas series\n"
   ]
  }
 ],
 "metadata": {
  "kernelspec": {
   "display_name": "base",
   "language": "python",
   "name": "python3"
  },
  "language_info": {
   "codemirror_mode": {
    "name": "ipython",
    "version": 3
   },
   "file_extension": ".py",
   "mimetype": "text/x-python",
   "name": "python",
   "nbconvert_exporter": "python",
   "pygments_lexer": "ipython3",
   "version": "3.12.4"
  }
 },
 "nbformat": 4,
 "nbformat_minor": 2
}

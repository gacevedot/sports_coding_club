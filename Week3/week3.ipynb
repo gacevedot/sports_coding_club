{
 "cells": [
  {
   "cell_type": "markdown",
   "metadata": {},
   "source": [
    "# Week 3: Data Manipulation with Pandas\n",
    "### Introduction to Pandas\n",
    "Pandas is a Python **library** for working with data in a tabular (table-like) structure called **DataFrames**. A dataframe is similar to an Excel spreadsheet, which is organized by **columns** and **rows**. \n",
    "#### Key features in Pandas:\n",
    "- **DataFrames**: store 2D data (rows and columns)\n",
    "- **Series**: store 1D arrays\n",
    "- **Data Manipulation**: you can easily add, remove, modify, and access data\n",
    "- **Descriptive statistics**: you can easily calculate statistics such as mean, sums, counts, and more\n",
    "---"
   ]
  },
  {
   "cell_type": "markdown",
   "metadata": {},
   "source": [
    "### Importing a library\n",
    "To access the objects in a library, you must import it to your notebook using the `import`\n",
    "<br><br>\n",
    "**Note**: you need to \"call\" the library every time you want to use an object, so you can use `import library as abbreviation` to use another shorter name for your library"
   ]
  },
  {
   "cell_type": "code",
   "execution_count": 107,
   "metadata": {},
   "outputs": [],
   "source": [
    "# Import the library 'Pandas' and use the alias 'pd'\n"
   ]
  },
  {
   "cell_type": "markdown",
   "metadata": {},
   "source": [
    "### Working with DataFrames\n",
    "---\n",
    "#### *Creating a DataFrame*\n",
    "To create a **Pandas DataFrame** you can use the class ```pandas.DataFrame(data=None, index=None, columns=None)``` from the pandas library\n",
    "<br><br>\n",
    "1. Create DataFrames using Python **lists**"
   ]
  },
  {
   "cell_type": "code",
   "execution_count": null,
   "metadata": {},
   "outputs": [],
   "source": [
    "# Let's see what happens when we use lists\n",
    "my_list = ['one','two','three','four']"
   ]
  },
  {
   "cell_type": "code",
   "execution_count": null,
   "metadata": {},
   "outputs": [],
   "source": [
    "# Now, what would happen if we use a list of lists?\n",
    "list_of_lists = [['one','two','three'],['a', 'b', 'c'],[1,2,3]]\n"
   ]
  },
  {
   "cell_type": "markdown",
   "metadata": {},
   "source": [
    "The top row are you **column** names. If not specified, it will use indexes (integers)\n",
    "<br>\n",
    "The left most column are your **index** (row) names. If not specified, it will use indexes (integers)"
   ]
  },
  {
   "cell_type": "code",
   "execution_count": null,
   "metadata": {},
   "outputs": [],
   "source": [
    "# Use the method .columns or .index to access the columns or indexes\n"
   ]
  },
  {
   "cell_type": "code",
   "execution_count": null,
   "metadata": {},
   "outputs": [],
   "source": [
    "# We can define the column and index names by:\n",
    "# (1) calling your DataFrame and using the method 'columns' or 'index'\n",
    "\n",
    "\n",
    "# (2) passing the column and index labels as arguments\n"
   ]
  },
  {
   "cell_type": "code",
   "execution_count": null,
   "metadata": {},
   "outputs": [],
   "source": [
    "# Let see our new indexes and columns\n"
   ]
  },
  {
   "cell_type": "code",
   "execution_count": null,
   "metadata": {},
   "outputs": [],
   "source": [
    "# If the lists have different lengths, the DataFrame will be created with NaN or None values\n"
   ]
  },
  {
   "cell_type": "code",
   "execution_count": null,
   "metadata": {},
   "outputs": [],
   "source": [
    "# if the number of columns or indexes do not match the number of elements in the list, an error will be raised\n"
   ]
  },
  {
   "cell_type": "markdown",
   "metadata": {},
   "source": [
    "2. Create DataFrames with Python **dicitonaries**"
   ]
  },
  {
   "cell_type": "code",
   "execution_count": null,
   "metadata": {},
   "outputs": [],
   "source": [
    "# Create a dictionary with lists\n",
    "dict1 = {\n",
    "    'names' : ['Alice', 'Bob', 'Charlie'],\n",
    "    'ages' : [25, 30, 35],\n",
    "    'nationalities' : ['American', 'British', 'Australian'],\n",
    "    'sports' : ['Tennis', 'Soccer', 'Basketball']\n",
    "}\n",
    "\n"
   ]
  },
  {
   "cell_type": "code",
   "execution_count": null,
   "metadata": {},
   "outputs": [],
   "source": [
    "# If using dictionaries, the length of the lists must be the same or an error will occur\n",
    "dict2 = {\n",
    "    'names' : ['Alice', 'Bob', 'Charlie'],\n",
    "    'ages' : [25, 30, 35],\n",
    "    'nationalities' : ['American', 'British', 'Australian'],\n",
    "    'sports' : ['Tennis', 'Soccer']\n",
    "}\n"
   ]
  },
  {
   "cell_type": "markdown",
   "metadata": {},
   "source": [
    "Now, lets create a DataFrame to learn how to extract and manipulate data"
   ]
  },
  {
   "cell_type": "code",
   "execution_count": null,
   "metadata": {},
   "outputs": [],
   "source": [
    "# Lets create a DataFrame using a dictionary\n",
    "player_data = {\n",
    "    \"Name\": [\"LeBron James\", \"Stephen Curry\", \"Kevin Durant\"],\n",
    "    \"Team\": [\"Lakers\", \"Warriors\", \"Suns\"],\n",
    "    \"Points Per Game\": [27.2, 24.6, 26.9],\n",
    "}\n"
   ]
  },
  {
   "cell_type": "markdown",
   "metadata": {},
   "source": [
    "---\n",
    "#### *Accessing Data from a DataFrame*\n",
    "1. Access specific columns using []\n",
    "2. Access specific rows using `.iloc[i]` or `.loc`"
   ]
  },
  {
   "cell_type": "code",
   "execution_count": null,
   "metadata": {},
   "outputs": [],
   "source": [
    "# Using [] after your DataFrame will focus on columns\n",
    "\n",
    "\n",
    "# Using .iloc[] you can access a row using indexes\n",
    "\n",
    "\n",
    "# The method .loc[] is used if your rows have specific labels\n",
    "# Let's use of df2 \n"
   ]
  },
  {
   "cell_type": "markdown",
   "metadata": {},
   "source": [
    "3. Access a specific cell using `DataFrame[Column][Index]`"
   ]
  },
  {
   "cell_type": "code",
   "execution_count": null,
   "metadata": {},
   "outputs": [],
   "source": [
    "# First specify the column, then specify the row index\n",
    "\n",
    "\n",
    "\n",
    "# It will also work with row labels\n",
    "\n"
   ]
  },
  {
   "cell_type": "markdown",
   "metadata": {},
   "source": [
    "4. Access a subset of DataFrame using conditions\n",
    "You can use a condition to get a subset of your DataFrame using [conditon]"
   ]
  },
  {
   "cell_type": "code",
   "execution_count": null,
   "metadata": {},
   "outputs": [],
   "source": [
    "# Example: lets get a subset of our DataFrame for the players that scored more than 25 points\n",
    "\n",
    "\n",
    "# Example: Get players than are from the Bucks team\n",
    "# In Python == is used state 'equal'\n"
   ]
  },
  {
   "cell_type": "markdown",
   "metadata": {},
   "source": [
    "---\n",
    "#### *Adding Data to a DataFrame*\n",
    "You can add new columns or rows to a DataFrame"
   ]
  },
  {
   "cell_type": "code",
   "execution_count": null,
   "metadata": {},
   "outputs": [],
   "source": [
    "# Specify a new column and assign (=) values\n"
   ]
  },
  {
   "cell_type": "code",
   "execution_count": null,
   "metadata": {},
   "outputs": [],
   "source": [
    "# You can use .loc[] method to create a new row and assign (=) values\n"
   ]
  },
  {
   "cell_type": "markdown",
   "metadata": {},
   "source": [
    "You can use `pd.concat([df1, df2])` to combine two DataFrames"
   ]
  },
  {
   "cell_type": "code",
   "execution_count": null,
   "metadata": {},
   "outputs": [],
   "source": [
    "# Lets add new players to our DataFrame\n",
    "new_players = {\n",
    "    \"Name\": [\"Joel Embiid\", \"Luka Dončić\"],\n",
    "    \"Team\": [\"76ers\", \"Mavericks\"],\n",
    "    \"Points Per Game\": [30.6, 32.4],\n",
    "    \"Height (cm)\": [213, 201]\n",
    "}\n",
    "\n",
    "# Create a DataFrame for your new players\n",
    "\n",
    "\n",
    "# Combine both dataframes\n",
    "\n"
   ]
  },
  {
   "cell_type": "markdown",
   "metadata": {},
   "source": [
    "---\n",
    "#### *Basic DataFrame Information*\n",
    "\n",
    "| Method | Output |\n",
    "|-|-|\n",
    "|`len(df)`| # rows|\n",
    "|`df.shape`|(# rows, # columns)|\n",
    "|`df.count()`| Number of non-NA values in each column|\n"
   ]
  },
  {
   "cell_type": "code",
   "execution_count": null,
   "metadata": {},
   "outputs": [],
   "source": [
    "# Let's try them \n",
    "# Use len() for # of rows\n",
    "\n",
    "# Create a variable with shape for (#row, #columns) tuple\n",
    "\n",
    "\n",
    "# Show how many values you have in each column .count()\n"
   ]
  },
  {
   "cell_type": "markdown",
   "metadata": {},
   "source": [
    "---\n",
    "#### *Summary/Statistics*\n",
    "You can get descriptive statistics from for DataFrames. However, most will only make sense for columns with integers or floats\n",
    "\n",
    "|Method|Output|\n",
    "|-|-|\n",
    "|`df.sum()`|Sum of values of each column|\n",
    "|`df.cumsum()`|Cumulative sum of values|\n",
    "|`df.min()` or `df.max()`|Minimum or maximum values|\n",
    "|`df.describe()`|Summary statistics|\n",
    "|`df.mean()`|Mean of values|\n",
    "|`df.median()`|Meadian of values|\n",
    "\n"
   ]
  },
  {
   "cell_type": "code",
   "execution_count": null,
   "metadata": {},
   "outputs": [],
   "source": [
    "# You can get summary of all columns or specify a column using brackets\n",
    "\n",
    "\n",
    "#Try the rest\n"
   ]
  },
  {
   "cell_type": "markdown",
   "metadata": {},
   "source": [
    "### Exercise: Manipulating data using DataFrames\n",
    "Use the following dictionary to create a DataFrame and answer the questions"
   ]
  },
  {
   "cell_type": "code",
   "execution_count": 126,
   "metadata": {},
   "outputs": [],
   "source": [
    "basketball_stats = {\n",
    "    \"Player\": [\n",
    "        \"John Smith\", \"Mike Johnson\", \"Alex Brown\", \"Chris Davis\", \"James Wilson\",\n",
    "        \"Daniel Lee\", \"Ryan Harris\", \"Kevin White\", \"David Martin\", \"Brian Anderson\"\n",
    "    ],\n",
    "    \"Team\": [\n",
    "        \"Lions\", \"Lions\", \"Lions\", \"Lions\", \"Lions\",\n",
    "        \"Tigers\", \"Tigers\", \"Tigers\", \"Tigers\", \"Tigers\"\n",
    "    ],\n",
    "    \"Points\": [25, 18, 12, 20, 22, 15, 10, 30, 27, 14],\n",
    "    \"Assists\": [5, 7, 4, 6, 3, 8, 9, 2, 5, 6],\n",
    "    \"Height_cm\": [198, 195, 200, 205, 190, 185, 192, 198, 203, 187],\n",
    "    \"Weight_kg\": [95, 92, 100, 110, 88, 85, 90, 97, 105, 83],\n",
    "}"
   ]
  },
  {
   "cell_type": "code",
   "execution_count": null,
   "metadata": {},
   "outputs": [],
   "source": [
    "# Create a Pandas DataFrame using the dictionary above\n"
   ]
  },
  {
   "cell_type": "markdown",
   "metadata": {},
   "source": [
    "1. How many players in your DataFrame are from the Tigers and how many are from the Lions?"
   ]
  },
  {
   "cell_type": "code",
   "execution_count": null,
   "metadata": {},
   "outputs": [],
   "source": [
    "# Code for 1\n"
   ]
  },
  {
   "cell_type": "markdown",
   "metadata": {},
   "source": [
    "2. Who are the tallest and shortest players from the DataFrame?\n",
    "\n",
    "**Hint:** use min() and max() and then use values to find the rows"
   ]
  },
  {
   "cell_type": "code",
   "execution_count": null,
   "metadata": {},
   "outputs": [],
   "source": [
    "# Code for 2\n"
   ]
  },
  {
   "cell_type": "markdown",
   "metadata": {},
   "source": [
    "3. Which team accumulated the highest amount of points?\n",
    "\n",
    "**Hint:** Use the .sum() method and determine which values is the highest"
   ]
  },
  {
   "cell_type": "code",
   "execution_count": null,
   "metadata": {},
   "outputs": [],
   "source": [
    "# Code for 3\n"
   ]
  },
  {
   "cell_type": "markdown",
   "metadata": {},
   "source": [
    "4. What is the mean weight for each team?"
   ]
  },
  {
   "cell_type": "code",
   "execution_count": null,
   "metadata": {},
   "outputs": [],
   "source": [
    "# Code for 4\n"
   ]
  },
  {
   "cell_type": "markdown",
   "metadata": {},
   "source": [
    "5. Which players have the most assists?"
   ]
  },
  {
   "cell_type": "code",
   "execution_count": null,
   "metadata": {},
   "outputs": [],
   "source": [
    "# Code for 5\n"
   ]
  }
 ],
 "metadata": {
  "kernelspec": {
   "display_name": "base",
   "language": "python",
   "name": "python3"
  },
  "language_info": {
   "codemirror_mode": {
    "name": "ipython",
    "version": 3
   },
   "file_extension": ".py",
   "mimetype": "text/x-python",
   "name": "python",
   "nbconvert_exporter": "python",
   "pygments_lexer": "ipython3",
   "version": "3.11.5"
  }
 },
 "nbformat": 4,
 "nbformat_minor": 2
}

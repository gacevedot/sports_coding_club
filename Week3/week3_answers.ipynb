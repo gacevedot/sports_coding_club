{
 "cells": [
  {
   "cell_type": "markdown",
   "metadata": {},
   "source": [
    "# Week 3: Data Manipulation with Pandas\n",
    "### Introduction to Pandas\n",
    "Pandas is a Python **library** for working with data in a tabular (table-like) structure called **DataFrames**. A dataframe is similar to an Excel spreadsheet, which is organized by **columns** and **rows**. \n",
    "#### Key features in Pandas:\n",
    "- **DataFrames**: store 2D data (rows and columns)\n",
    "- **Series**: store 1D arrays\n",
    "- **Data Manipulation**: you can easily add, remove, modify, and access data\n",
    "- **Descriptive statistics**: you can easily calculate statistics such as mean, sums, counts, and more\n",
    "---"
   ]
  },
  {
   "cell_type": "markdown",
   "metadata": {},
   "source": [
    "### Importing a library\n",
    "To access the objects in a library, you must import it to your notebook using the `import`\n",
    "<br><br>\n",
    "**Note**: you need to \"call\" the library every time you want to use an object, so you can use `import library as abbreviation` to use another shorter name for your library"
   ]
  },
  {
   "cell_type": "code",
   "execution_count": 107,
   "metadata": {},
   "outputs": [],
   "source": [
    "# Import the library 'Pandas' and use the alias 'pd'\n",
    "import pandas as pd # Now you can use 'pd' to refer to 'pandas'"
   ]
  },
  {
   "cell_type": "markdown",
   "metadata": {},
   "source": [
    "### Working with DataFrames\n",
    "---\n",
    "#### *Creating a DataFrame*\n",
    "To create a **Pandas DataFrame** you can use the class ```pandas.DataFrame(data=None, index=None, columns=None)``` from the pandas library\n",
    "<br><br>\n",
    "1. Create DataFrames using Python **lists**"
   ]
  },
  {
   "cell_type": "code",
   "execution_count": null,
   "metadata": {},
   "outputs": [],
   "source": [
    "# Let's see what happens when we use lists\n",
    "my_list = ['one','two','three','four']\n",
    "df1 = pd.DataFrame(my_list)\n",
    "df1 # Each element on the list becomes a row in a DataFrame"
   ]
  },
  {
   "cell_type": "code",
   "execution_count": null,
   "metadata": {},
   "outputs": [],
   "source": [
    "# Now, what would happen if we use a list of lists?\n",
    "list_of_lists = [['one','two','three'],['a', 'b', 'c'],[1,2,3]]\n",
    "df2 = pd.DataFrame(list_of_lists)\n",
    "df2 # Each list becomes a row in a DataFrame"
   ]
  },
  {
   "cell_type": "markdown",
   "metadata": {},
   "source": [
    "The top row are you **column** names. If not specified, it will use indexes (integers)\n",
    "<br>\n",
    "The left most column are your **index** (row) names. If not specified, it will use indexes (integers)"
   ]
  },
  {
   "cell_type": "code",
   "execution_count": null,
   "metadata": {},
   "outputs": [],
   "source": [
    "# Use the method .columns or .index to access the columns or indexes\n",
    "print(df2.columns)\n",
    "print(df2.index)"
   ]
  },
  {
   "cell_type": "code",
   "execution_count": null,
   "metadata": {},
   "outputs": [],
   "source": [
    "# We can define the column and index names by:\n",
    "# (1) calling your DataFrame and using the method 'columns' or 'index'\n",
    "column_labels = ['col1','col2','col3']\n",
    "index_labels = ['row1','row2','row3']\n",
    "df2.columns = column_labels\n",
    "df2.index = index_labels\n",
    "print(df2)\n",
    "\n",
    "# (2) passing the column and index labels as arguments\n",
    "df3 = pd.DataFrame(list_of_lists, columns=column_labels, index=index_labels)\n",
    "print(df3)"
   ]
  },
  {
   "cell_type": "code",
   "execution_count": null,
   "metadata": {},
   "outputs": [],
   "source": [
    "# Let see our new indexes and columns\n",
    "print(df2.columns)\n",
    "print(df2.index)"
   ]
  },
  {
   "cell_type": "code",
   "execution_count": null,
   "metadata": {},
   "outputs": [],
   "source": [
    "# If the lists have different lengths, the DataFrame will be created with NaN or None values\n",
    "pd.DataFrame([['one','two','three'],['a', 'b', 'c'],[1,2]]) "
   ]
  },
  {
   "cell_type": "code",
   "execution_count": null,
   "metadata": {},
   "outputs": [],
   "source": [
    "# if the number of columns or indexes do not match the number of elements in the list, an error will be raised\n",
    "pd.DataFrame(list_of_lists, columns=column_names, index=['row1','row2']) # This will raise an error"
   ]
  },
  {
   "cell_type": "markdown",
   "metadata": {},
   "source": [
    "2. Create DataFrames with Python **dicitonaries**"
   ]
  },
  {
   "cell_type": "code",
   "execution_count": null,
   "metadata": {},
   "outputs": [],
   "source": [
    "# Create a dictionary with lists\n",
    "dict1 = {\n",
    "    'names' : ['Alice', 'Bob', 'Charlie'],\n",
    "    'ages' : [25, 30, 35],\n",
    "    'nationalities' : ['American', 'British', 'Australian'],\n",
    "    'sports' : ['Tennis', 'Soccer', 'Basketball']\n",
    "}\n",
    "\n",
    "df4 = pd.DataFrame(dict1)\n",
    "df4 # The keys of the dictionary become the column labels & the values become the rows"
   ]
  },
  {
   "cell_type": "code",
   "execution_count": null,
   "metadata": {},
   "outputs": [],
   "source": [
    "# If using dictionaries, the length of the lists must be the same or an error will occur\n",
    "dict2 = {\n",
    "    'names' : ['Alice', 'Bob', 'Charlie'],\n",
    "    'ages' : [25, 30, 35],\n",
    "    'nationalities' : ['American', 'British', 'Australian'],\n",
    "    'sports' : ['Tennis', 'Soccer']\n",
    "}\n",
    "pd.DataFrame(dict2) # This will raise an error"
   ]
  },
  {
   "cell_type": "markdown",
   "metadata": {},
   "source": [
    "Now, lets create a DataFrame to learn how to extract and manipulate data"
   ]
  },
  {
   "cell_type": "code",
   "execution_count": null,
   "metadata": {},
   "outputs": [],
   "source": [
    "# Lets create a DataFrame using a dictionary\n",
    "player_data = {\n",
    "    \"Name\": [\"LeBron James\", \"Stephen Curry\", \"Kevin Durant\"],\n",
    "    \"Team\": [\"Lakers\", \"Warriors\", \"Suns\"],\n",
    "    \"Points Per Game\": [27.2, 24.6, 26.9],\n",
    "}\n",
    "df = pd.DataFrame(player_data)\n",
    "print(df)"
   ]
  },
  {
   "cell_type": "markdown",
   "metadata": {},
   "source": [
    "---\n",
    "#### *Accessing Data from a DataFrame*\n",
    "1. Access specific columns using []\n",
    "2. Access specific rows using `.iloc[i]` or `.loc`"
   ]
  },
  {
   "cell_type": "code",
   "execution_count": null,
   "metadata": {},
   "outputs": [],
   "source": [
    "# Using [] after your DataFrame will focus on columns\n",
    "print(df['Name'], '\\n')\n",
    "\n",
    "# Using .iloc[] you can access a row using indexes\n",
    "print(df.iloc[0], '\\n')\n",
    "\n",
    "# The method .loc[] is used if your rows have specific labels\n",
    "# Let's use of df2 \n",
    "print(df2)\n",
    "df2.loc['row1']"
   ]
  },
  {
   "cell_type": "markdown",
   "metadata": {},
   "source": [
    "3. Access a specific cell using `DataFrame[Column][Index]`"
   ]
  },
  {
   "cell_type": "code",
   "execution_count": null,
   "metadata": {},
   "outputs": [],
   "source": [
    "# First specify the column, then specify the row index\n",
    "print(df['Name'][0])\n",
    "\n",
    "\n",
    "# It will also work with row labels\n",
    "print(df2['col1']['row1'])\n"
   ]
  },
  {
   "cell_type": "markdown",
   "metadata": {},
   "source": [
    "4. Access a subset of DataFrame using conditions\n",
    "You can use a condition to get a subset of your DataFrame using [conditon]"
   ]
  },
  {
   "cell_type": "code",
   "execution_count": null,
   "metadata": {},
   "outputs": [],
   "source": [
    "# Example: lets get a subset of our DataFrame for the players that scored more than 25 points\n",
    "df_subset = df[df['Points Per Game'] > 25]\n",
    "print(df_subset)\n",
    "\n",
    "# Example: Get players than are from the Bucks team\n",
    "# In Python == is used state 'equal'\n",
    "df_bucks = df[df['Team'] == 'Bucks']\n",
    "print('\\n',df_bucks) "
   ]
  },
  {
   "cell_type": "markdown",
   "metadata": {},
   "source": [
    "---\n",
    "#### *Adding Data to a DataFrame*\n",
    "You can add new columns or rows to a DataFrame"
   ]
  },
  {
   "cell_type": "code",
   "execution_count": null,
   "metadata": {},
   "outputs": [],
   "source": [
    "# Specify a new column and assign (=) values\n",
    "df[\"Height (cm)\"] = [206, 191, 208]\n",
    "print(df)"
   ]
  },
  {
   "cell_type": "code",
   "execution_count": null,
   "metadata": {},
   "outputs": [],
   "source": [
    "# You can use .loc[] method to create a new row and assign (=) values\n",
    "df.loc[3] = ['Giannis Antetokounmpo', 'Bucks', 29.9, 211]\n",
    "df"
   ]
  },
  {
   "cell_type": "markdown",
   "metadata": {},
   "source": [
    "You can use `pd.concat([df1, df2])` to combine two DataFrames"
   ]
  },
  {
   "cell_type": "code",
   "execution_count": null,
   "metadata": {},
   "outputs": [],
   "source": [
    "# Lets add new players to our DataFrame\n",
    "new_players = {\n",
    "    \"Name\": [\"Joel Embiid\", \"Luka Dončić\"],\n",
    "    \"Team\": [\"76ers\", \"Mavericks\"],\n",
    "    \"Points Per Game\": [30.6, 32.4],\n",
    "    \"Height (cm)\": [213, 201]\n",
    "}\n",
    "\n",
    "# Create a DataFrame for your new players\n",
    "df_new = pd.DataFrame(new_players)\n",
    "\n",
    "# Combine both dataframes\n",
    "df = pd.concat([df, df_new], ignore_index=True)\n",
    "df\n"
   ]
  },
  {
   "cell_type": "markdown",
   "metadata": {},
   "source": [
    "---\n",
    "#### *Basic DataFrame Information*\n",
    "\n",
    "| Method | Output |\n",
    "|-|-|\n",
    "|`len(df)`| # rows|\n",
    "|`df.shape`|(# rows, # columns)|\n",
    "|`df.count()`| Number of non-NA values in each column|\n"
   ]
  },
  {
   "cell_type": "code",
   "execution_count": null,
   "metadata": {},
   "outputs": [],
   "source": [
    "# Let's try them \n",
    "print('There are', len(df), 'players in my DataFrame')\n",
    "\n",
    "# Create a variable\n",
    "df_shape = df.shape\n",
    "# df_shape[0] is number of rows, df_shape[1] is number of columns\n",
    "print('I have', df_shape[1], 'pieces of information from', df_shape[0], 'players')\n",
    "\n",
    "# Show how many values you have in each column\n",
    "print(df.count())"
   ]
  },
  {
   "cell_type": "markdown",
   "metadata": {},
   "source": [
    "---\n",
    "#### *Summary/Statistics*\n",
    "You can get descriptive statistics from for DataFrames. However, most will only make sense for columns with integers or floats\n",
    "\n",
    "|Method|Output|\n",
    "|-|-|\n",
    "|`df.sum()`|Sum of values of each column|\n",
    "|`df.cumsum()`|Cumulative sum of values|\n",
    "|`df.min()` or `df.max()`|Minimum or maximum values|\n",
    "|`df.describe()`|Summary statistics|\n",
    "|`df.mean()`|Mean of values|\n",
    "|`df.median()`|Meadian of values|\n",
    "\n"
   ]
  },
  {
   "cell_type": "code",
   "execution_count": null,
   "metadata": {},
   "outputs": [],
   "source": [
    "# You can get summary of all columns or specify a column using brackets\n",
    "print(df.sum())\n",
    "print('\\nTotal points:',df['Points Per Game'].sum())\n",
    "\n",
    "#Try the rest\n",
    "print('\\ncumsum', df.cumsum())\n",
    "print('\\nThe lowest score was:', df['Points Per Game'].min())\n",
    "print('\\nThe mean Points Per Game is:', df['Points Per Game'].mean())"
   ]
  },
  {
   "cell_type": "markdown",
   "metadata": {},
   "source": [
    "### Exercise: Manipulating data using DataFrames\n",
    "Use the following dictionary to create a DataFrame and answer the questions"
   ]
  },
  {
   "cell_type": "code",
   "execution_count": 126,
   "metadata": {},
   "outputs": [],
   "source": [
    "basketball_stats = {\n",
    "    \"Player\": [\n",
    "        \"John Smith\", \"Mike Johnson\", \"Alex Brown\", \"Chris Davis\", \"James Wilson\",\n",
    "        \"Daniel Lee\", \"Ryan Harris\", \"Kevin White\", \"David Martin\", \"Brian Anderson\"\n",
    "    ],\n",
    "    \"Team\": [\n",
    "        \"Lions\", \"Lions\", \"Lions\", \"Lions\", \"Lions\",\n",
    "        \"Tigers\", \"Tigers\", \"Tigers\", \"Tigers\", \"Tigers\"\n",
    "    ],\n",
    "    \"Points\": [25, 18, 12, 20, 22, 15, 10, 30, 27, 14],\n",
    "    \"Assists\": [5, 7, 4, 6, 3, 8, 9, 2, 5, 6],\n",
    "    \"Height_cm\": [198, 195, 200, 205, 190, 185, 192, 198, 203, 187],\n",
    "    \"Weight_kg\": [95, 92, 100, 110, 88, 85, 90, 97, 105, 83],\n",
    "}"
   ]
  },
  {
   "cell_type": "code",
   "execution_count": null,
   "metadata": {},
   "outputs": [],
   "source": [
    "# Create a Pandas DataFrame using the dictionary above\n",
    "df = pd.DataFrame(basketball_stats)\n",
    "df"
   ]
  },
  {
   "cell_type": "markdown",
   "metadata": {},
   "source": [
    "1. How many players in your DataFrame are from the Tigers and how many are from the Lions?"
   ]
  },
  {
   "cell_type": "code",
   "execution_count": null,
   "metadata": {},
   "outputs": [],
   "source": [
    "# Code for 1\n",
    "\n",
    "# Get a subset df for each team\n",
    "df_tigers = df[df['Team'] == 'Tigers']\n",
    "df_lions = df[df['Team'] == 'Lions']\n",
    "df_tigers # check that it is correct\n",
    "\n",
    "\n",
    "# The number of rows in each DataFrame correspond to the number of players\n",
    "n_tigers = len(df_tigers)   # or df_tigers.shape[0]\n",
    "n_lions = df_lions.shape[0] # or len(df_lions)\n",
    "\n",
    "\n",
    "# Print your results\n",
    "print('There are', n_tigers, 'players from the Tigers team and', n_lions, 'players from the Lions team')"
   ]
  },
  {
   "cell_type": "markdown",
   "metadata": {},
   "source": [
    "2. Who are the tallest and shortest players from the DataFrame?\n",
    "\n",
    "**Hint:** use min() and max() and then use values to find the rows"
   ]
  },
  {
   "cell_type": "code",
   "execution_count": null,
   "metadata": {},
   "outputs": [],
   "source": [
    "# Code for 2\n",
    "\n",
    "# Find the maximum and minimum height values\n",
    "max_height = df['Height_cm'].max()\n",
    "min_height = df['Height_cm'].min()\n",
    "\n",
    "\n",
    "# Find the row that contains the max/min height values\n",
    "row_max_height = df[df['Height_cm'] == max_height]\n",
    "row_min_height = df[df['Height_cm'] == min_height]\n",
    "\n",
    "# Get the player's name\n",
    "player_max_height = row_max_height['Player']  # The output will be a pandas series\n",
    "player_min_height = row_min_height['Player']\n",
    "\n",
    "# To print it, you can turn the pandas series in a list using list() and then get the first item [0]\n",
    "print('The tallest player is', list(player_max_height)[0], 'and the shortest player is', list(player_min_height)[0])"
   ]
  },
  {
   "cell_type": "markdown",
   "metadata": {},
   "source": [
    "3. Which team accumulated the highest amount of points?\n",
    "\n",
    "**Hint:** Use the .sum() method and determine which values is the highest"
   ]
  },
  {
   "cell_type": "code",
   "execution_count": null,
   "metadata": {},
   "outputs": [],
   "source": [
    "# Code for 3\n",
    "\n",
    "# Get the total points for each team using the subset DataFrames\n",
    "total_points_tigers = df_tigers['Points'].sum()\n",
    "total_points_lions = df_lions['Points'].sum()\n",
    "\n",
    "# (1) Print totals and determine which team has the highest value and print results\n",
    "print(total_points_tigers, total_points_lions)\n",
    "print('The Lions scored more points in total')\n",
    "\n",
    "# (2) Use If statements\n",
    "if total_points_lions < total_points_tigers:\n",
    "    print('The Tigers scored more points in total')\n",
    "else:\n",
    "    print('The Lions scored more points in total')"
   ]
  },
  {
   "cell_type": "markdown",
   "metadata": {},
   "source": [
    "4. What is the mean weight for each team?"
   ]
  },
  {
   "cell_type": "code",
   "execution_count": null,
   "metadata": {},
   "outputs": [],
   "source": [
    "# Code for 4\n",
    "\n",
    "# Find the mean for the weight columns in the subset DataFrames\n",
    "mean_weight_tigers = df_tigers['Weight_kg'].mean()\n",
    "mean_weight_lions = df_lions['Weight_kg'].mean()\n",
    "\n",
    "# Print the results\n",
    "print('The mean weight for the Tigers is:', mean_weight_tigers, 'kg')\n",
    "print('The mean weight for the Lions is:', mean_weight_lions, 'kg')"
   ]
  },
  {
   "cell_type": "markdown",
   "metadata": {},
   "source": [
    "5. Which players have the most assists?"
   ]
  },
  {
   "cell_type": "code",
   "execution_count": null,
   "metadata": {},
   "outputs": [],
   "source": [
    "# Code for 5\n",
    "\n",
    "# Find the maximum value for assists\n",
    "max_assist = df['Assists'].max()\n",
    "\n",
    "# Find the row with the maximum assist value\n",
    "row_max_assist = df[df['Assists'] == max_assist]\n",
    "\n",
    "# Get the player's name from the row\n",
    "player_max_assist = row_max_assist['Player']\n",
    "\n",
    "# print the results (turn series into list and get first element)\n",
    "print('The player with the most assists is:', list(player_max_assist)[0])"
   ]
  }
 ],
 "metadata": {
  "kernelspec": {
   "display_name": "base",
   "language": "python",
   "name": "python3"
  },
  "language_info": {
   "codemirror_mode": {
    "name": "ipython",
    "version": 3
   },
   "file_extension": ".py",
   "mimetype": "text/x-python",
   "name": "python",
   "nbconvert_exporter": "python",
   "pygments_lexer": "ipython3",
   "version": "3.11.5"
  }
 },
 "nbformat": 4,
 "nbformat_minor": 2
}
